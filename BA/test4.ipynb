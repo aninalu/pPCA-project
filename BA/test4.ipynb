{
 "cells": [
  {
   "cell_type": "code",
   "execution_count": 1,
   "id": "633df2d8",
   "metadata": {},
   "outputs": [],
   "source": [
    "%load_ext autoreload\n",
    "%autoreload 2 \n",
    "\n",
    "import numpy as np\n",
    "import jax\n",
    "import cProfile\n",
    "import matplotlib.pyplot as plt\n",
    "from sklearn.decomposition import PCA as sk_PCA\n",
    "from jax import numpy as jnp\n",
    "from jax.random import PRNGKey, split\n",
    "from hyperiax_internal_data.hyperiax.pca.pca import PhylogeneticPCA, PCA\n",
    "from hyperiax_internal_data.hyperiax.pca.phylo_matrices import PhylogenicCovarianceMatrices\n",
    "from hyperiax_internal_data.hyperiax.pca.gls_reconstuction import estimate_grand_mean, estimate_inner_nodes, estimate_conditional_covariance, get_confidence_interval\n",
    "from hyperiax_internal_data.hyperiax.plotting import plot_tree\n",
    "from hyperiax_internal_data.hyperiax.execution import OrderedExecutor\n",
    "from hyperiax_internal_data.hyperiax.models import DownLambda\n",
    "from hyperiax_internal_data.hyperiax.tree.topology import read_topology\n",
    "from sklearn.metrics import root_mean_squared_error as RMSE\n",
    "from scipy.stats import pearsonr\n"
   ]
  },
  {
   "cell_type": "code",
   "execution_count": 2,
   "id": "3de0d9f7",
   "metadata": {},
   "outputs": [
    {
     "name": "stdout",
     "output_type": "stream",
     "text": [
      "pPCA Eigenvalues: [1.71341075 1.22995593 0.58181577 0.44971967 0.21660019]\n",
      "Standard PCA Eigenvalues: [1.71341075 1.22995593 0.58181577 0.44971967 0.21660019]\n",
      "Sklean PCA Eigenvalues: [1.71341075 1.22995593 0.58181577 0.44971967 0.21660019]\n",
      "pPCA Eigenvectors:\n",
      " [[-0.19140105 -0.24462942  0.908652   -0.2271501  -0.16210015]\n",
      " [ 0.64514401 -0.30162525  0.07329169  0.45332605 -0.53097574]\n",
      " [-0.30640856 -0.45450065  0.06907329  0.68266928  0.47826195]\n",
      " [-0.22650162 -0.75905736 -0.3946124  -0.39935136 -0.23943367]\n",
      " [ 0.63400762 -0.25775906  0.09214015 -0.34260688  0.63696572]]\n",
      "Standard PCA Eigenvectors:\n",
      " [[-0.19140105 -0.24462942  0.908652   -0.2271501  -0.16210015]\n",
      " [ 0.64514401 -0.30162525  0.07329169  0.45332605 -0.53097574]\n",
      " [-0.30640856 -0.45450065  0.06907329  0.68266928  0.47826195]\n",
      " [-0.22650162 -0.75905736 -0.3946124  -0.39935136 -0.23943367]\n",
      " [ 0.63400762 -0.25775906  0.09214015 -0.34260688  0.63696572]]\n",
      "Sklean PCA Eigenvectors:\n",
      " [[-0.19140105  0.24462942  0.908652   -0.2271501  -0.16210015]\n",
      " [ 0.64514401  0.30162525  0.07329169  0.45332605 -0.53097574]\n",
      " [-0.30640856  0.45450065  0.06907329  0.68266928  0.47826195]\n",
      " [-0.22650162  0.75905736 -0.3946124  -0.39935136 -0.23943367]\n",
      " [ 0.63400762  0.25775906  0.09214015 -0.34260688  0.63696572]]\n"
     ]
    }
   ],
   "source": [
    "# Test phylogenetic PCA\n",
    "\n",
    "phylo_PCA = PhylogeneticPCA()\n",
    "reg_PCA = PCA()\n",
    "sk_pca = sk_PCA()\n",
    "\n",
    "# Generate random data\n",
    "np.random.seed(42)\n",
    "Y = np.random.randn(10, 5) \n",
    "\n",
    "# Use identity covariance (no phylogenetic structure)\n",
    "C = np.eye(10)\n",
    "\n",
    "# Estimate grand mean for pPCA\n",
    "a = estimate_grand_mean(C, Y)\n",
    "\n",
    "# Run pPCA\n",
    "Up_ppca, Sp_ppca = phylo_PCA.fit(a, C, Y)\n",
    "\n",
    "# Run standard PCA\n",
    "U_pca, S_pca = reg_PCA.fit(Y)\n",
    "\n",
    "# Run sklearn PCA\n",
    "sk_pca.fit(Y)\n",
    "\n",
    "# Compare eigenvalues\n",
    "print(\"pPCA Eigenvalues:\", Sp_ppca)\n",
    "print(\"Standard PCA Eigenvalues:\", S_pca)\n",
    "print(\"Sklean PCA Eigenvalues:\", sk_pca.explained_variance_)\n",
    "\n",
    "# Compare eigenvectors (up to sign flips)\n",
    "print(\"pPCA Eigenvectors:\\n\", Up_ppca)\n",
    "print(\"Standard PCA Eigenvectors:\\n\", U_pca)\n",
    "print(\"Sklean PCA Eigenvectors:\\n\", sk_pca.components_.T)"
   ]
  },
  {
   "cell_type": "code",
   "execution_count": 3,
   "id": "6b139e2a",
   "metadata": {},
   "outputs": [
    {
     "data": {
      "image/png": "[encoded data removed]",
      "text/plain": [
       "<Figure size 1000x800 with 1 Axes>"
      ]
     },
     "metadata": {},
     "output_type": "display_data"
    }
   ],
   "source": [
    "key = PRNGKey(0)\n",
    "\n",
    "# Tree structure from Matins and Hansen (1997)\n",
    "string_tree = \"((((A:4,B:4):5,(C:7,D:7):2):2,E:11):2,((F:5,G:5):4,(H:4,I:4):5):4):1;\"\n",
    "tree = read_topology(string_tree)\n",
    "tree.add_property('value', shape=(4,))\n",
    "tree.add_property('noise', shape=(4,))\n",
    "\n",
    "# Build HypTree with with random data (simulated via Brownian motion)\n",
    "def tree_simulator(random_key): \n",
    "    random_key, subkey = split(random_key)\n",
    "    tree.data['noise'] = jax.random.normal(subkey, shape=tree.data['noise'].shape)\n",
    "    @jax.jit\n",
    "    def down(noise, edge_length,parent_value, **args):\n",
    "        return {'value': jnp.sqrt(edge_length)*noise+parent_value}\n",
    "    tree.data['value'] = tree.data['value'].at[0].set(tree.data['noise'][0])\n",
    "    downmodel = DownLambda(down_fn=down)\n",
    "    exe = OrderedExecutor(downmodel)\n",
    "    exe.down(tree)\n",
    "    leaf_values = tree.data['value'][tree.is_leaf]\n",
    "    inner_values = tree.data['value'][tree.is_inner]\n",
    "    return tree, leaf_values, inner_values\n",
    "\n",
    "tree, leaf_values, inner_values = tree_simulator(key)\n",
    "plot_tree(tree)"
   ]
  },
  {
   "cell_type": "code",
   "execution_count": 4,
   "id": "f3e435c7",
   "metadata": {},
   "outputs": [
    {
     "name": "stdout",
     "output_type": "stream",
     "text": [
      "[[-0.56997365  0.23764825  1.1220015   3.8527074 ]\n",
      " [-2.4170222   0.9092597   1.1242896   3.0500476 ]\n",
      " [-0.12729034  0.09405241  0.6878271   4.647781  ]\n",
      " [-1.7134142  -0.51718307  2.6945093   4.7778587 ]\n",
      " [-2.494147    0.21003054  2.459488    3.9244134 ]\n",
      " [ 1.41849    -0.71255285  0.98991126  2.9792495 ]\n",
      " [-2.1446593  -0.47898105  2.4540176   3.8145788 ]]\n"
     ]
    }
   ],
   "source": [
    "print(inner_values)"
   ]
  },
  {
   "cell_type": "code",
   "execution_count": 5,
   "id": "b2144146",
   "metadata": {},
   "outputs": [
    {
     "name": "stdout",
     "output_type": "stream",
     "text": [
      "[[13.  0.  0.  0.  0.  2.  2.  2.  2.]\n",
      " [ 0. 13.  8.  4.  4.  0.  0.  0.  0.]\n",
      " [ 0.  8. 13.  4.  4.  0.  0.  0.  0.]\n",
      " [ 0.  4.  4. 13.  9.  0.  0.  0.  0.]\n",
      " [ 0.  4.  4.  9. 13.  0.  0.  0.  0.]\n",
      " [ 2.  0.  0.  0.  0. 13.  9.  4.  4.]\n",
      " [ 2.  0.  0.  0.  0.  9. 13.  4.  4.]\n",
      " [ 2.  0.  0.  0.  0.  4.  4. 13.  6.]\n",
      " [ 2.  0.  0.  0.  0.  4.  4.  6. 13.]]\n",
      "[[2. 0. 0. 0. 0. 2. 2. 2. 2.]\n",
      " [0. 4. 4. 4. 4. 0. 0. 0. 0.]\n",
      " [2. 0. 0. 0. 0. 4. 4. 4. 4.]\n",
      " [0. 8. 8. 4. 4. 0. 0. 0. 0.]\n",
      " [0. 4. 4. 9. 9. 0. 0. 0. 0.]\n",
      " [2. 0. 0. 0. 0. 9. 9. 4. 4.]\n",
      " [2. 0. 0. 0. 0. 4. 4. 6. 6.]]\n"
     ]
    }
   ],
   "source": [
    "# Test phylogenetic covariance matrices\n",
    "\n",
    "phylogenic_matrices = PhylogenicCovarianceMatrices(tree)\n",
    "\n",
    "C_leaves, C_inner, C_leaves_inner = phylogenic_matrices.get_covariance_matrices()\n",
    "print(C_leaves)\n",
    "print(C_leaves_inner)"
   ]
  },
  {
   "cell_type": "code",
   "execution_count": 6,
   "id": "ce550359",
   "metadata": {},
   "outputs": [
    {
     "name": "stdout",
     "output_type": "stream",
     "text": [
      "Average RMSE: 1.3723\n",
      "Average Mean Error: -0.0040\n",
      "Average Pearson r: 0.8359\n",
      "Average 95% CI Coverage: 91.93%\n"
     ]
    }
   ],
   "source": [
    "rmses = []\n",
    "mean_errors = []\n",
    "correlations = []\n",
    "coverage = []\n",
    "residuals_list = []\n",
    "\n",
    "for i in range(100):\n",
    "    #Simulate tree values \n",
    "    key = PRNGKey(i)\n",
    "    tree, leaf_values, inner_values = tree_simulator(key)\n",
    "    \n",
    "    #Estimate root and ancestral states \n",
    "    GM = estimate_grand_mean(C_leaves, leaf_values)\n",
    "    inner_estimates = estimate_inner_nodes(GM, C_leaves_inner, C_leaves, leaf_values)\n",
    "    \n",
    "    #Residuals \n",
    "    resids = inner_values - inner_estimates\n",
    "    \n",
    "    #Error \n",
    "    rmse = RMSE(inner_values, inner_estimates)\n",
    "    mean_error = np.mean(resids)\n",
    "    \n",
    "    #Correlation between real and estimated values\n",
    "    corr, _ = pearsonr(inner_values.flatten(), inner_estimates.flatten())\n",
    "    \n",
    "    # Confidence interval and coverage\n",
    "    con_cov = estimate_conditional_covariance(C_inner, C_leaves_inner, C_leaves)\n",
    "    CI = get_confidence_interval(con_cov, inner_estimates)\n",
    "    lower = CI[:, 1]\n",
    "    upper = CI[:, 0]\n",
    "    covered = np.logical_and(inner_values >= lower, inner_values <= upper)\n",
    "    coverage.append(np.mean(covered))\n",
    "    \n",
    "    # Collect results\n",
    "    rmses.append(rmse)\n",
    "    mean_errors.append(mean_error)\n",
    "    correlations.append(corr)\n",
    "    residuals_list.append(resids)\n",
    "\n",
    "# Summarize\n",
    "print(f\"Average RMSE: {np.mean(rmses):.4f}\")\n",
    "print(f\"Average Mean Error: {np.mean(mean_errors):.4f}\")\n",
    "print(f\"Average Pearson r: {np.mean(correlations):.4f}\")\n",
    "print(f\"Average 95% CI Coverage: {np.mean(coverage) * 100:.2f}%\")\n"
   ]
  },
  {
   "cell_type": "code",
   "execution_count": 7,
   "id": "468a6284",
   "metadata": {},
   "outputs": [],
   "source": [
    "filename = \"/Users/aninauldum/Documents/Datalogi/bachelor/BA/hyperiax_internal_data/data/butterflies/male_dataset/species_tree.tre\"\n",
    "filename_csv = \"/Users/aninauldum/Documents/Datalogi/bachelor/BA/hyperiax_internal_data/data/butterflies/male_dataset/landmarks.csv\"\n",
    "with open(filename, \"r\") as file:\n",
    "    string_tree = file.read()\n",
    "big_tree = read_topology(string_tree)"
   ]
  },
  {
   "cell_type": "code",
   "execution_count": 8,
   "id": "442aee9b",
   "metadata": {},
   "outputs": [
    {
     "name": "stdout",
     "output_type": "stream",
     "text": [
      "         33354804 function calls (33354803 primitive calls) in 20.379 seconds\n",
      "\n",
      "   Ordered by: standard name\n",
      "\n",
      "   ncalls  tottime  percall  cumtime  percall filename:lineno(function)\n",
      "  1395630    0.183    0.000    1.069    0.000 <frozen abc>:117(__instancecheck__)\n",
      "  1395630    0.178    0.000    0.483    0.000 <frozen abc>:121(__subclasscheck__)\n",
      "        1    0.067    0.067   20.378   20.378 <string>:1(<module>)\n",
      "        4    0.000    0.000    0.000    0.000 __init__.py:96(_xla_gc_callback)\n",
      "  3102624    0.320    0.000    0.320    0.000 array.py:248(shape)\n",
      "   311364    0.074    0.000    0.134    0.000 array.py:256(ndim)\n",
      "  2791260    0.684    0.000    1.325    0.000 array.py:260(size)\n",
      "  1396189    0.128    0.000    0.128    0.000 array.py:264(sharding)\n",
      "  1395630    0.663    0.000    8.612    0.000 array.py:292(__bool__)\n",
      "   311364    0.146    0.000    0.653    0.000 array.py:296(__float__)\n",
      "  1396189    0.340    0.000    0.548    0.000 array.py:386(is_fully_replicated)\n",
      "  1706994    0.273    0.000    0.273    0.000 array.py:591(_check_if_deleted)\n",
      "  1706994    4.511    0.000    5.417    0.000 array.py:621(_value)\n",
      "  1395630    6.724    0.000    8.384    0.000 array_methods.py:568(deferring_binary_op)\n",
      "        2    0.000    0.000    0.000    0.000 base_events.py:1903(_timer_handle_cancelled)\n",
      "        3    0.054    0.018   10.001    3.334 base_events.py:1908(_run_once)\n",
      "        8    0.000    0.000    0.000    0.000 base_events.py:2003(get_debug)\n",
      "        2    0.000    0.000    0.000    0.000 base_events.py:446(create_future)\n",
      "        4    0.000    0.000    0.000    0.000 base_events.py:538(_check_closed)\n",
      "        8    0.000    0.000    0.000    0.000 base_events.py:732(time)\n",
      "        2    0.000    0.000    0.000    0.000 base_events.py:741(call_later)\n",
      "        2    0.000    0.000    0.000    0.000 base_events.py:765(call_at)\n",
      "        2    0.000    0.000    0.000    0.000 base_events.py:783(call_soon)\n",
      "        2    0.000    0.000    0.000    0.000 base_events.py:812(_call_soon)\n",
      "   311364    0.050    0.000    0.184    0.000 core.py:660(check_scalar_conversion)\n",
      "  1395630    0.330    0.000    1.655    0.000 core.py:671(check_bool_conversion)\n",
      "        2    0.000    0.000    0.000    0.000 events.py:111(__init__)\n",
      "        2    0.000    0.000    0.000    0.000 events.py:155(cancel)\n",
      "        4    0.000    0.000    0.000    0.000 events.py:36(__init__)\n",
      "        2    0.000    0.000    0.000    0.000 events.py:72(cancel)\n",
      "        4    0.000    0.000    0.000    0.000 events.py:86(_run)\n",
      "        2    0.000    0.000    0.000    0.000 futures.py:311(_set_result_unless_cancelled)\n",
      "        2    0.000    0.000    0.000    0.000 iostream.py:117(_run_event_pipe_gc)\n",
      "        2    0.000    0.000    0.000    0.000 iostream.py:126(_event_pipe_gc)\n",
      "   155403    2.602    0.000   19.598    0.000 phylo_matrices.py:38(_find_shared_edge_lengths)\n",
      "        1    0.006    0.006    0.787    0.787 phylo_matrices.py:48(get_covariance_matrices)\n",
      "  1706994    1.201    0.000    6.618    0.000 profiler.py:330(wrapper)\n",
      "        4    0.000    0.000    0.000    0.000 selector_events.py:750(_process_events)\n",
      "        3    0.000    0.000    0.000    0.000 selectors.py:558(select)\n",
      "  1396189    0.080    0.000    0.080    0.000 sharding_impls.py:480(is_fully_replicated)\n",
      "        4    0.000    0.000    0.000    0.000 tasks.py:653(sleep)\n",
      "        6    0.000    0.000    0.000    0.000 threading.py:1153(_wait_for_tstate_lock)\n",
      "        6    0.000    0.000    0.000    0.000 threading.py:1220(is_alive)\n",
      "        6    0.000    0.000    0.000    0.000 threading.py:601(is_set)\n",
      "      281    0.000    0.000    0.000    0.000 tree.py:164(iter_topology_leaves_bfs)\n",
      "      279    0.000    0.000    0.000    0.000 tree.py:177(iter_topology_inner_nodes_bfs)\n",
      "  1396189    0.086    0.000    0.086    0.000 typing.py:2132(cast)\n",
      "  1395630    0.403    0.000    0.886    0.000 {built-in method _abc._abc_instancecheck}\n",
      "  1395630    0.305    0.000    0.305    0.000 {built-in method _abc._abc_subclasscheck}\n",
      "        2    0.000    0.000    0.000    0.000 {built-in method _asyncio.get_running_loop}\n",
      "        2    0.000    0.000    0.000    0.000 {built-in method _contextvars.copy_context}\n",
      "        2    0.000    0.000    0.000    0.000 {built-in method _heapq.heappop}\n",
      "        2    0.000    0.000    0.000    0.000 {built-in method _heapq.heappush}\n",
      "      2/1    0.000    0.000   20.378   20.378 {built-in method builtins.exec}\n",
      "  1395630    0.136    0.000    0.136    0.000 {built-in method builtins.hasattr}\n",
      "  1395630    0.454    0.000    1.524    0.000 {built-in method builtins.isinstance}\n",
      "   311374    0.027    0.000    0.027    0.000 {built-in method builtins.len}\n",
      "        6    0.000    0.000    0.000    0.000 {built-in method builtins.max}\n",
      "        2    0.000    0.000    0.000    0.000 {built-in method builtins.min}\n",
      "  2791260    0.353    0.000    0.353    0.000 {built-in method math.prod}\n",
      "        1    0.000    0.000    0.000    0.000 {built-in method numpy.zeros}\n",
      "        8    0.000    0.000    0.000    0.000 {built-in method time.monotonic}\n",
      "        2    0.000    0.000    0.000    0.000 {method '__exit__' of '_thread.lock' objects}\n",
      "        6    0.000    0.000    0.000    0.000 {method 'acquire' of '_thread.lock' objects}\n",
      "        4    0.000    0.000    0.000    0.000 {method 'append' of 'collections.deque' objects}\n",
      "        2    0.000    0.000    0.000    0.000 {method 'cancelled' of '_asyncio.Future' objects}\n",
      "        3    0.000    0.000    0.000    0.000 {method 'control' of 'select.kqueue' objects}\n",
      "        1    0.001    0.001    0.001    0.001 {method 'disable' of '_lsprof.Profiler' objects}\n",
      "      558    0.000    0.000    0.000    0.000 {method 'extend' of 'collections.deque' objects}\n",
      "        2    0.000    0.000    0.000    0.000 {method 'items' of 'dict' objects}\n",
      "     1122    0.000    0.000    0.000    0.000 {method 'popleft' of 'collections.deque' objects}\n",
      "        4    0.000    0.000    0.000    0.000 {method 'run' of '_contextvars.Context' objects}\n",
      "        2    0.000    0.000    0.000    0.000 {method 'set_result' of '_asyncio.Future' objects}\n",
      "\n",
      "\n"
     ]
    }
   ],
   "source": [
    "phylo_matrices = PhylogenicCovarianceMatrices(big_tree)\n",
    "cProfile.run('phylo_matrices.get_covariance_matrices()')"
   ]
  }
 ],
 "metadata": {
  "kernelspec": {
   "display_name": "base",
   "language": "python",
   "name": "python3"
  },
  "language_info": {
   "codemirror_mode": {
    "name": "ipython",
    "version": 3
   },
   "file_extension": ".py",
   "mimetype": "text/x-python",
   "name": "python",
   "nbconvert_exporter": "python",
   "pygments_lexer": "ipython3",
   "version": "3.12.2"
  }
 },
 "nbformat": 4,
 "nbformat_minor": 5
}
