{
 "cells": [
  {
   "cell_type": "code",
   "execution_count": 257,
   "metadata": {},
   "outputs": [
    {
     "name": "stdout",
     "output_type": "stream",
     "text": [
      "The autoreload extension is already loaded. To reload it, use:\n",
      "  %reload_ext autoreload\n"
     ]
    }
   ],
   "source": [
    "%load_ext autoreload\n",
    "%autoreload 2"
   ]
  },
  {
   "cell_type": "code",
   "execution_count": 258,
   "metadata": {},
   "outputs": [],
   "source": [
    "import jax\n",
    "jax.config.update(\"jax_enable_x64\", True)\n",
    "from jax import numpy as jnp\n",
    "from jax.random import PRNGKey, split\n",
    "\n",
    "import pandas as pd\n",
    "\n",
    "from hyperiax.execution import OrderedExecutor\n",
    "from hyperiax.models import UpLambdaReducer, DownLambda, UpLambda\n",
    "\n",
    "from hyperiax.tree.topology import read_topology, TopologyNode\n",
    "from hyperiax.tree import HypTree\n",
    "\n",
    "from hyperiax.plotting import plot_tree, plot_tree_text, plot_shape_2d, plot_tree_2d_scatter, plot_tree_2d_shape\n",
    "\n",
    "from hyperiax.mcmc import ParameterStore, VarianceParameter\n",
    "from hyperiax.mcmc.metropolis_hastings import metropolis_hastings\n",
    "from hyperiax.mcmc.statistics import gelman_rubin\n",
    "from hyperiax.mcmc.plotting import trace_plots\n",
    "\n",
    "import matplotlib.pyplot as plt\n",
    "from tqdm import tqdm"
   ]
  },
  {
   "cell_type": "code",
   "execution_count": 259,
   "metadata": {},
   "outputs": [],
   "source": [
    "# seed,\n",
    "seed = 42\n",
    "#import os; seed = int(os.urandom(5).hex(), 16)\n",
    "key = PRNGKey(seed)"
   ]
  },
  {
   "cell_type": "code",
   "execution_count": 260,
   "metadata": {},
   "outputs": [],
   "source": [
    "import pandas as pd"
   ]
  },
  {
   "cell_type": "code",
   "execution_count": 261,
   "metadata": {},
   "outputs": [
    {
     "name": "stdout",
     "output_type": "stream",
     "text": [
      "HypTree(size=33, levels=7, leaves=17, inner nodes=15)\n",
      "                                                                                                                                   \n",
      "                                     ┌────────────────────────────────────────────────────────────────────────────────────────────┴─────────────────────────────────────────────────────────────────────────────────────────────┐\n",
      "                                                                                                                                                                                                                                                                                         \n",
      "      ┌──────────────────────────────┴───────────────────────────────┐                                                                                                                  ┌───────────────────────────────────────┴───────────────────────────────────────┐                \n",
      "Papilio_gigon                                                                                                                                                                                                                                                                            \n",
      "                                          ┌──────────────────────────┴──────────────────────────┐                                             ┌─────────────────────────────────────────┴──────────────────────────────────────────┐                            ┌───────┴───────┐        \n",
      "                                                                                        Papilio_deiphobus                                                                                                                                                 Papilio_xuthus Papilio_zelicaon\n",
      "                       ┌──────────────────┴───────────────────┐                                                         ┌─────────────────────┴─────────────────────┐                                                 ┌────────────┴─────────────┐                                       \n",
      "              Papilio_cresphontes                                                                                                                                                                                                         Papilio_troilus                                \n",
      "                                                ┌─────────────┴──────────────┐                                   ┌──────┴───────┐                       ┌───────────┴────────────┐                        ┌───────────┴───────────┐                                                      \n",
      "                                                                    Papilio_aristodemus                   Papilio_glaucus Papilio_memnon                                 Papilio_polyxenes                                  Papilio_thoas                                                \n",
      "                                        ┌───────┴────────┐                                                                                      ┌───────┴───────┐                                 ┌───────┴────────┐                                                                     \n",
      "                                  Papilio_ambrax Papilio_antimachus                                                                      Papilio_phestus Papilio_polytes                   Papilio_protenor Papilio_slateri\n"
     ]
    },
    {
     "data": {
      "image/png": "[encoded data removed]",
      "text/plain": [
       "<Figure size 1000x800 with 1 Axes>"
      ]
     },
     "metadata": {},
     "output_type": "display_data"
    }
   ],
   "source": [
    "\n",
    "\n",
    "# data and landmarks dimensions\n",
    "d=2\n",
    "\n",
    "filename = \"/Users/aninauldum/Documents/Datalogi/bachelor/BA/hyperiax_internal_data/data/butterflies/papilio_male_dataset/papilio_tree.tree\"\n",
    "filename_csv = \"/Users/aninauldum/Documents/Datalogi/bachelor/BA/hyperiax_internal_data/data/butterflies/papilio_male_dataset/papilio_shapes.csv\"\n",
    "#filename = \"hyperiax_internal_data/data/butterflies/male_dataset/species_tree.tre\"\n",
    "#filename_csv = \"hyperiax_internal_data/data/butterflies/male_dataset/reconstructed_shapes.csv\"\n",
    "with open(filename, \"r\") as file:\n",
    "    string_tree = file.read()\n",
    "tree = read_topology(string_tree)\n",
    "\n",
    "# print the tree\n",
    "print(tree)\n",
    "plot_tree_text(tree)\n",
    "plot_tree(tree,inc_names=True)"
   ]
  },
  {
   "cell_type": "code",
   "execution_count": 262,
   "metadata": {},
   "outputs": [
    {
     "name": "stdout",
     "output_type": "stream",
     "text": [
      "n landmarks:  118\n",
      "n landmarks after removing coinciding landmarks:  (33, 234)\n"
     ]
    },
    {
     "data": {
      "image/png": "[encoded data removed]",
      "text/plain": [
       "<Figure size 1000x800 with 1 Axes>"
      ]
     },
     "metadata": {},
     "output_type": "display_data"
    }
   ],
   "source": [
    "n_steps = 25\n",
    "\n",
    "landmarks_edges = pd.read_csv(filename_csv, sep=\",\", header = 0)\n",
    "node_names = landmarks_edges['node_names'] \n",
    "landmarks_edges = landmarks_edges.set_index('node_names')\n",
    "landmarks = landmarks_edges.drop(columns=\"edges\")\n",
    "landmarks = landmarks.to_numpy()\n",
    "\n",
    "# Check for NaN values in landmarks array\n",
    "nan_rows = jnp.where(jnp.isnan(landmarks).any(axis=1))[0]\n",
    "if len(nan_rows) > 0:\n",
    "    print(\"Warning: NaN values found in landmarks array at row(s):\", nan_rows)\n",
    "n = landmarks.shape[1]//d\n",
    "print(\"n landmarks: \",n)\n",
    "if 'male_dataset' in filename_csv:\n",
    "    landmarks = landmarks.reshape((-1,n,d))\n",
    "    landmarks = jnp.delete(landmarks,66,axis=1) # drop row with coinciding landmarks\n",
    "    landmarks = landmarks.reshape((landmarks.shape[0],-1))\n",
    "    n = landmarks.shape[1]//d\n",
    "    print(\"n landmarks after removing coinciding landmarks: \",landmarks.shape)\n",
    "\n",
    "n_shapes = landmarks.shape[0]\n",
    "landmarks = 2*1e-3*landmarks.reshape((n_shapes,-1,d))[:,::1].reshape((n_shapes,-1))\n",
    "\n",
    "# add landmarks to tree \n",
    "tree.add_property('value', shape=(n_steps+1,n*d,))\n",
    "\n",
    "tree.data['value'] = tree.data['value'].at[:].set(landmarks[:,None,:])\n",
    "leaf_values = tree.data['value'][tree.is_leaf][:,-1]\n",
    "\n",
    "fig,ax = plt.subplots(figsize=(10,8))\n",
    "for leaf in tree.iter_topology_leaves_bfs():\n",
    "    plot_shape_2d(tree.data['value'][leaf.id][-1],ax=ax)\n",
    "       \n",
    "for i,node in enumerate(tree.iter_topology_bfs()):\n",
    "    node.name = node_names[i]\n",
    "    \n",
    "my_nodenames_leaves = []    \n",
    "leaves_parents = []\n",
    "for node in tree.iter_topology_leaves_bfs():  \n",
    "    my_nodenames_leaves.append(node.name) \n",
    "    leaves_parents.append(node.parent.name)"
   ]
  },
  {
   "cell_type": "code",
   "execution_count": 263,
   "metadata": {},
   "outputs": [
    {
     "data": {
      "image/png": "[encoded data removed]",
      "text/plain": [
       "<Figure size 1000x800 with 1 Axes>"
      ]
     },
     "metadata": {},
     "output_type": "display_data"
    }
   ],
   "source": [
    "fig,ax = plt.subplots(figsize=(10,8))\n",
    "for node in tree.iter_topology_bfs():\n",
    "    plot_shape_2d(tree.data['value'][node.id][-1],ax=ax)\n",
    "    \n",
    "my_nodenames = []    \n",
    "for node in tree.iter_topology_bfs():  \n",
    "    my_nodenames.append(node.name)    "
   ]
  },
  {
   "cell_type": "code",
   "execution_count": 264,
   "metadata": {},
   "outputs": [
    {
     "name": "stdout",
     "output_type": "stream",
     "text": [
      "[0.62567712 0.18449844]\n",
      "[2.15211029 1.16865342]\n"
     ]
    },
    {
     "data": {
      "application/vnd.plotly.v1+json": {
       "config": {
        "plotlyServerURL": "https://plot.ly"
       },
       "data": [
        {
         "diagonal": {
          "visible": false
         },
         "dimensions": [
          {
           "axis": {
            "matches": true
           },
           "label": "PC 1 (62.6%)",
           "values": [
            0.0012802262831615422
           ]
          },
          {
           "axis": {
            "matches": true
           },
           "label": "PC 2 (18.4%)",
           "values": [
            0.017361456750663837
           ]
          }
         ],
         "hovertemplate": "color=Papilio_gigon<br>%{xaxis.title.text}=%{x}<br>%{yaxis.title.text}=%{y}<extra></extra>",
         "legendgroup": "Papilio_gigon",
         "marker": {
          "color": "#636efa",
          "symbol": "circle"
         },
         "name": "Papilio_gigon",
         "showlegend": true,
         "type": "splom"
        },
        {
         "diagonal": {
          "visible": false
         },
         "dimensions": [
          {
           "axis": {
            "matches": true
           },
           "label": "PC 1 (62.6%)",
           "values": [
            -0.229278665119076
           ]
          },
          {
           "axis": {
            "matches": true
           },
           "label": "PC 2 (18.4%)",
           "values": [
            0.27577539003101736
           ]
          }
         ],
         "hovertemplate": "color=Papilio_deiphobus<br>%{xaxis.title.text}=%{x}<br>%{yaxis.title.text}=%{y}<extra></extra>",
         "legendgroup": "Papilio_deiphobus",
         "marker": {
          "color": "#EF553B",
          "symbol": "circle"
         },
         "name": "Papilio_deiphobus",
         "showlegend": true,
         "type": "splom"
        },
        {
         "diagonal": {
          "visible": false
         },
         "dimensions": [
          {
           "axis": {
            "matches": true
           },
           "label": "PC 1 (62.6%)",
           "values": [
            0.23902541773793104
           ]
          },
          {
           "axis": {
            "matches": true
           },
           "label": "PC 2 (18.4%)",
           "values": [
            -0.03942182828285674
           ]
          }
         ],
         "hovertemplate": "color=Papilio_xuthus<br>%{xaxis.title.text}=%{x}<br>%{yaxis.title.text}=%{y}<extra></extra>",
         "legendgroup": "Papilio_xuthus",
         "marker": {
          "color": "#00cc96",
          "symbol": "circle"
         },
         "name": "Papilio_xuthus",
         "showlegend": true,
         "type": "splom"
        },
        {
         "diagonal": {
          "visible": false
         },
         "dimensions": [
          {
           "axis": {
            "matches": true
           },
           "label": "PC 1 (62.6%)",
           "values": [
            -0.23056984028288166
           ]
          },
          {
           "axis": {
            "matches": true
           },
           "label": "PC 2 (18.4%)",
           "values": [
            -0.30781682882522216
           ]
          }
         ],
         "hovertemplate": "color=Papilio_zelicaon<br>%{xaxis.title.text}=%{x}<br>%{yaxis.title.text}=%{y}<extra></extra>",
         "legendgroup": "Papilio_zelicaon",
         "marker": {
          "color": "#ab63fa",
          "symbol": "circle"
         },
         "name": "Papilio_zelicaon",
         "showlegend": true,
         "type": "splom"
        },
        {
         "diagonal": {
          "visible": false
         },
         "dimensions": [
          {
           "axis": {
            "matches": true
           },
           "label": "PC 1 (62.6%)",
           "values": [
            -0.33399170097916064
           ]
          },
          {
           "axis": {
            "matches": true
           },
           "label": "PC 2 (18.4%)",
           "values": [
            -0.14916249033059276
           ]
          }
         ],
         "hovertemplate": "color=Papilio_cresphontes<br>%{xaxis.title.text}=%{x}<br>%{yaxis.title.text}=%{y}<extra></extra>",
         "legendgroup": "Papilio_cresphontes",
         "marker": {
          "color": "#FFA15A",
          "symbol": "circle"
         },
         "name": "Papilio_cresphontes",
         "showlegend": true,
         "type": "splom"
        },
        {
         "diagonal": {
          "visible": false
         },
         "dimensions": [
          {
           "axis": {
            "matches": true
           },
           "label": "PC 1 (62.6%)",
           "values": [
            -0.22662075905564782
           ]
          },
          {
           "axis": {
            "matches": true
           },
           "label": "PC 2 (18.4%)",
           "values": [
            0.28565972495845493
           ]
          }
         ],
         "hovertemplate": "color=Papilio_troilus<br>%{xaxis.title.text}=%{x}<br>%{yaxis.title.text}=%{y}<extra></extra>",
         "legendgroup": "Papilio_troilus",
         "marker": {
          "color": "#19d3f3",
          "symbol": "circle"
         },
         "name": "Papilio_troilus",
         "showlegend": true,
         "type": "splom"
        },
        {
         "diagonal": {
          "visible": false
         },
         "dimensions": [
          {
           "axis": {
            "matches": true
           },
           "label": "PC 1 (62.6%)",
           "values": [
            -0.7059737469549101
           ]
          },
          {
           "axis": {
            "matches": true
           },
           "label": "PC 2 (18.4%)",
           "values": [
            -0.25548834793521713
           ]
          }
         ],
         "hovertemplate": "color=Papilio_aristodemus<br>%{xaxis.title.text}=%{x}<br>%{yaxis.title.text}=%{y}<extra></extra>",
         "legendgroup": "Papilio_aristodemus",
         "marker": {
          "color": "#FF6692",
          "symbol": "circle"
         },
         "name": "Papilio_aristodemus",
         "showlegend": true,
         "type": "splom"
        },
        {
         "diagonal": {
          "visible": false
         },
         "dimensions": [
          {
           "axis": {
            "matches": true
           },
           "label": "PC 1 (62.6%)",
           "values": [
            -0.5473599715101916
           ]
          },
          {
           "axis": {
            "matches": true
           },
           "label": "PC 2 (18.4%)",
           "values": [
            -0.0681910901391984
           ]
          }
         ],
         "hovertemplate": "color=Papilio_glaucus<br>%{xaxis.title.text}=%{x}<br>%{yaxis.title.text}=%{y}<extra></extra>",
         "legendgroup": "Papilio_glaucus",
         "marker": {
          "color": "#B6E880",
          "symbol": "circle"
         },
         "name": "Papilio_glaucus",
         "showlegend": true,
         "type": "splom"
        },
        {
         "diagonal": {
          "visible": false
         },
         "dimensions": [
          {
           "axis": {
            "matches": true
           },
           "label": "PC 1 (62.6%)",
           "values": [
            0.1892292748770969
           ]
          },
          {
           "axis": {
            "matches": true
           },
           "label": "PC 2 (18.4%)",
           "values": [
            0.3268169017183214
           ]
          }
         ],
         "hovertemplate": "color=Papilio_memnon<br>%{xaxis.title.text}=%{x}<br>%{yaxis.title.text}=%{y}<extra></extra>",
         "legendgroup": "Papilio_memnon",
         "marker": {
          "color": "#FF97FF",
          "symbol": "circle"
         },
         "name": "Papilio_memnon",
         "showlegend": true,
         "type": "splom"
        },
        {
         "diagonal": {
          "visible": false
         },
         "dimensions": [
          {
           "axis": {
            "matches": true
           },
           "label": "PC 1 (62.6%)",
           "values": [
            -0.023600192812337023
           ]
          },
          {
           "axis": {
            "matches": true
           },
           "label": "PC 2 (18.4%)",
           "values": [
            -0.004422923624951909
           ]
          }
         ],
         "hovertemplate": "color=Papilio_polyxenes<br>%{xaxis.title.text}=%{x}<br>%{yaxis.title.text}=%{y}<extra></extra>",
         "legendgroup": "Papilio_polyxenes",
         "marker": {
          "color": "#FECB52",
          "symbol": "circle"
         },
         "name": "Papilio_polyxenes",
         "showlegend": true,
         "type": "splom"
        },
        {
         "diagonal": {
          "visible": false
         },
         "dimensions": [
          {
           "axis": {
            "matches": true
           },
           "label": "PC 1 (62.6%)",
           "values": [
            -0.3687168165959967
           ]
          },
          {
           "axis": {
            "matches": true
           },
           "label": "PC 2 (18.4%)",
           "values": [
            -0.040718579612573545
           ]
          }
         ],
         "hovertemplate": "color=Papilio_thoas<br>%{xaxis.title.text}=%{x}<br>%{yaxis.title.text}=%{y}<extra></extra>",
         "legendgroup": "Papilio_thoas",
         "marker": {
          "color": "#636efa",
          "symbol": "circle"
         },
         "name": "Papilio_thoas",
         "showlegend": true,
         "type": "splom"
        },
        {
         "diagonal": {
          "visible": false
         },
         "dimensions": [
          {
           "axis": {
            "matches": true
           },
           "label": "PC 1 (62.6%)",
           "values": [
            0.09631150096861395
           ]
          },
          {
           "axis": {
            "matches": true
           },
           "label": "PC 2 (18.4%)",
           "values": [
            0.18172685999915256
           ]
          }
         ],
         "hovertemplate": "color=Papilio_ambrax<br>%{xaxis.title.text}=%{x}<br>%{yaxis.title.text}=%{y}<extra></extra>",
         "legendgroup": "Papilio_ambrax",
         "marker": {
          "color": "#EF553B",
          "symbol": "circle"
         },
         "name": "Papilio_ambrax",
         "showlegend": true,
         "type": "splom"
        },
        {
         "diagonal": {
          "visible": false
         },
         "dimensions": [
          {
           "axis": {
            "matches": true
           },
           "label": "PC 1 (62.6%)",
           "values": [
            1.5404637463514512
           ]
          },
          {
           "axis": {
            "matches": true
           },
           "label": "PC 2 (18.4%)",
           "values": [
            -0.39198559319594656
           ]
          }
         ],
         "hovertemplate": "color=Papilio_antimachus<br>%{xaxis.title.text}=%{x}<br>%{yaxis.title.text}=%{y}<extra></extra>",
         "legendgroup": "Papilio_antimachus",
         "marker": {
          "color": "#00cc96",
          "symbol": "circle"
         },
         "name": "Papilio_antimachus",
         "showlegend": true,
         "type": "splom"
        },
        {
         "diagonal": {
          "visible": false
         },
         "dimensions": [
          {
           "axis": {
            "matches": true
           },
           "label": "PC 1 (62.6%)",
           "values": [
            -0.4639578814291617
           ]
          },
          {
           "axis": {
            "matches": true
           },
           "label": "PC 2 (18.4%)",
           "values": [
            -0.2164363611373906
           ]
          }
         ],
         "hovertemplate": "color=Papilio_phestus<br>%{xaxis.title.text}=%{x}<br>%{yaxis.title.text}=%{y}<extra></extra>",
         "legendgroup": "Papilio_phestus",
         "marker": {
          "color": "#ab63fa",
          "symbol": "circle"
         },
         "name": "Papilio_phestus",
         "showlegend": true,
         "type": "splom"
        },
        {
         "diagonal": {
          "visible": false
         },
         "dimensions": [
          {
           "axis": {
            "matches": true
           },
           "label": "PC 1 (62.6%)",
           "values": [
            -0.13178984044148356
           ]
          },
          {
           "axis": {
            "matches": true
           },
           "label": "PC 2 (18.4%)",
           "values": [
            0.11493870362695639
           ]
          }
         ],
         "hovertemplate": "color=Papilio_polytes<br>%{xaxis.title.text}=%{x}<br>%{yaxis.title.text}=%{y}<extra></extra>",
         "legendgroup": "Papilio_polytes",
         "marker": {
          "color": "#FFA15A",
          "symbol": "circle"
         },
         "name": "Papilio_polytes",
         "showlegend": true,
         "type": "splom"
        },
        {
         "diagonal": {
          "visible": false
         },
         "dimensions": [
          {
           "axis": {
            "matches": true
           },
           "label": "PC 1 (62.6%)",
           "values": [
            0.6520321101857837
           ]
          },
          {
           "axis": {
            "matches": true
           },
           "label": "PC 2 (18.4%)",
           "values": [
            0.6957171048256813
           ]
          }
         ],
         "hovertemplate": "color=Papilio_protenor<br>%{xaxis.title.text}=%{x}<br>%{yaxis.title.text}=%{y}<extra></extra>",
         "legendgroup": "Papilio_protenor",
         "marker": {
          "color": "#19d3f3",
          "symbol": "circle"
         },
         "name": "Papilio_protenor",
         "showlegend": true,
         "type": "splom"
        },
        {
         "diagonal": {
          "visible": false
         },
         "dimensions": [
          {
           "axis": {
            "matches": true
           },
           "label": "PC 1 (62.6%)",
           "values": [
            0.5435171387768073
           ]
          },
          {
           "axis": {
            "matches": true
           },
           "label": "PC 2 (18.4%)",
           "values": [
            -0.4243520988262972
           ]
          }
         ],
         "hovertemplate": "color=Papilio_slateri<br>%{xaxis.title.text}=%{x}<br>%{yaxis.title.text}=%{y}<extra></extra>",
         "legendgroup": "Papilio_slateri",
         "marker": {
          "color": "#FF6692",
          "symbol": "circle"
         },
         "name": "Papilio_slateri",
         "showlegend": true,
         "type": "splom"
        }
       ],
       "layout": {
        "dragmode": "select",
        "legend": {
         "title": {
          "text": "color"
         },
         "tracegroupgap": 0
        },
        "margin": {
         "t": 60
        },
        "template": {
         "data": {
          "bar": [
           {
            "error_x": {
             "color": "#2a3f5f"
            },
            "error_y": {
             "color": "#2a3f5f"
            },
            "marker": {
             "line": {
              "color": "#E5ECF6",
              "width": 0.5
             },
             "pattern": {
              "fillmode": "overlay",
              "size": 10,
              "solidity": 0.2
             }
            },
            "type": "bar"
           }
          ],
          "barpolar": [
           {
            "marker": {
             "line": {
              "color": "#E5ECF6",
              "width": 0.5
             },
             "pattern": {
              "fillmode": "overlay",
              "size": 10,
              "solidity": 0.2
             }
            },
            "type": "barpolar"
           }
          ],
          "carpet": [
           {
            "aaxis": {
             "endlinecolor": "#2a3f5f",
             "gridcolor": "white",
             "linecolor": "white",
             "minorgridcolor": "white",
             "startlinecolor": "#2a3f5f"
            },
            "baxis": {
             "endlinecolor": "#2a3f5f",
             "gridcolor": "white",
             "linecolor": "white",
             "minorgridcolor": "white",
             "startlinecolor": "#2a3f5f"
            },
            "type": "carpet"
           }
          ],
          "choropleth": [
           {
            "colorbar": {
             "outlinewidth": 0,
             "ticks": ""
            },
            "type": "choropleth"
           }
          ],
          "contour": [
           {
            "colorbar": {
             "outlinewidth": 0,
             "ticks": ""
            },
            "colorscale": [
             [
              0,
              "#0d0887"
             ],
             [
              0.1111111111111111,
              "#46039f"
             ],
             [
              0.2222222222222222,
              "#7201a8"
             ],
             [
              0.3333333333333333,
              "#9c179e"
             ],
             [
              0.4444444444444444,
              "#bd3786"
             ],
             [
              0.5555555555555556,
              "#d8576b"
             ],
             [
              0.6666666666666666,
              "#ed7953"
             ],
             [
              0.7777777777777778,
              "#fb9f3a"
             ],
             [
              0.8888888888888888,
              "#fdca26"
             ],
             [
              1,
              "#f0f921"
             ]
            ],
            "type": "contour"
           }
          ],
          "contourcarpet": [
           {
            "colorbar": {
             "outlinewidth": 0,
             "ticks": ""
            },
            "type": "contourcarpet"
           }
          ],
          "heatmap": [
           {
            "colorbar": {
             "outlinewidth": 0,
             "ticks": ""
            },
            "colorscale": [
             [
              0,
              "#0d0887"
             ],
             [
              0.1111111111111111,
              "#46039f"
             ],
             [
              0.2222222222222222,
              "#7201a8"
             ],
             [
              0.3333333333333333,
              "#9c179e"
             ],
             [
              0.4444444444444444,
              "#bd3786"
             ],
             [
              0.5555555555555556,
              "#d8576b"
             ],
             [
              0.6666666666666666,
              "#ed7953"
             ],
             [
              0.7777777777777778,
              "#fb9f3a"
             ],
             [
              0.8888888888888888,
              "#fdca26"
             ],
             [
              1,
              "#f0f921"
             ]
            ],
            "type": "heatmap"
           }
          ],
          "heatmapgl": [
           {
            "colorbar": {
             "outlinewidth": 0,
             "ticks": ""
            },
            "colorscale": [
             [
              0,
              "#0d0887"
             ],
             [
              0.1111111111111111,
              "#46039f"
             ],
             [
              0.2222222222222222,
              "#7201a8"
             ],
             [
              0.3333333333333333,
              "#9c179e"
             ],
             [
              0.4444444444444444,
              "#bd3786"
             ],
             [
              0.5555555555555556,
              "#d8576b"
             ],
             [
              0.6666666666666666,
              "#ed7953"
             ],
             [
              0.7777777777777778,
              "#fb9f3a"
             ],
             [
              0.8888888888888888,
              "#fdca26"
             ],
             [
              1,
              "#f0f921"
             ]
            ],
            "type": "heatmapgl"
           }
          ],
          "histogram": [
           {
            "marker": {
             "pattern": {
              "fillmode": "overlay",
              "size": 10,
              "solidity": 0.2
             }
            },
            "type": "histogram"
           }
          ],
          "histogram2d": [
           {
            "colorbar": {
             "outlinewidth": 0,
             "ticks": ""
            },
            "colorscale": [
             [
              0,
              "#0d0887"
             ],
             [
              0.1111111111111111,
              "#46039f"
             ],
             [
              0.2222222222222222,
              "#7201a8"
             ],
             [
              0.3333333333333333,
              "#9c179e"
             ],
             [
              0.4444444444444444,
              "#bd3786"
             ],
             [
              0.5555555555555556,
              "#d8576b"
             ],
             [
              0.6666666666666666,
              "#ed7953"
             ],
             [
              0.7777777777777778,
              "#fb9f3a"
             ],
             [
              0.8888888888888888,
              "#fdca26"
             ],
             [
              1,
              "#f0f921"
             ]
            ],
            "type": "histogram2d"
           }
          ],
          "histogram2dcontour": [
           {
            "colorbar": {
             "outlinewidth": 0,
             "ticks": ""
            },
            "colorscale": [
             [
              0,
              "#0d0887"
             ],
             [
              0.1111111111111111,
              "#46039f"
             ],
             [
              0.2222222222222222,
              "#7201a8"
             ],
             [
              0.3333333333333333,
              "#9c179e"
             ],
             [
              0.4444444444444444,
              "#bd3786"
             ],
             [
              0.5555555555555556,
              "#d8576b"
             ],
             [
              0.6666666666666666,
              "#ed7953"
             ],
             [
              0.7777777777777778,
              "#fb9f3a"
             ],
             [
              0.8888888888888888,
              "#fdca26"
             ],
             [
              1,
              "#f0f921"
             ]
            ],
            "type": "histogram2dcontour"
           }
          ],
          "mesh3d": [
           {
            "colorbar": {
             "outlinewidth": 0,
             "ticks": ""
            },
            "type": "mesh3d"
           }
          ],
          "parcoords": [
           {
            "line": {
             "colorbar": {
              "outlinewidth": 0,
              "ticks": ""
             }
            },
            "type": "parcoords"
           }
          ],
          "pie": [
           {
            "automargin": true,
            "type": "pie"
           }
          ],
          "scatter": [
           {
            "fillpattern": {
             "fillmode": "overlay",
             "size": 10,
             "solidity": 0.2
            },
            "type": "scatter"
           }
          ],
          "scatter3d": [
           {
            "line": {
             "colorbar": {
              "outlinewidth": 0,
              "ticks": ""
             }
            },
            "marker": {
             "colorbar": {
              "outlinewidth": 0,
              "ticks": ""
             }
            },
            "type": "scatter3d"
           }
          ],
          "scattercarpet": [
           {
            "marker": {
             "colorbar": {
              "outlinewidth": 0,
              "ticks": ""
             }
            },
            "type": "scattercarpet"
           }
          ],
          "scattergeo": [
           {
            "marker": {
             "colorbar": {
              "outlinewidth": 0,
              "ticks": ""
             }
            },
            "type": "scattergeo"
           }
          ],
          "scattergl": [
           {
            "marker": {
             "colorbar": {
              "outlinewidth": 0,
              "ticks": ""
             }
            },
            "type": "scattergl"
           }
          ],
          "scattermapbox": [
           {
            "marker": {
             "colorbar": {
              "outlinewidth": 0,
              "ticks": ""
             }
            },
            "type": "scattermapbox"
           }
          ],
          "scatterpolar": [
           {
            "marker": {
             "colorbar": {
              "outlinewidth": 0,
              "ticks": ""
             }
            },
            "type": "scatterpolar"
           }
          ],
          "scatterpolargl": [
           {
            "marker": {
             "colorbar": {
              "outlinewidth": 0,
              "ticks": ""
             }
            },
            "type": "scatterpolargl"
           }
          ],
          "scatterternary": [
           {
            "marker": {
             "colorbar": {
              "outlinewidth": 0,
              "ticks": ""
             }
            },
            "type": "scatterternary"
           }
          ],
          "surface": [
           {
            "colorbar": {
             "outlinewidth": 0,
             "ticks": ""
            },
            "colorscale": [
             [
              0,
              "#0d0887"
             ],
             [
              0.1111111111111111,
              "#46039f"
             ],
             [
              0.2222222222222222,
              "#7201a8"
             ],
             [
              0.3333333333333333,
              "#9c179e"
             ],
             [
              0.4444444444444444,
              "#bd3786"
             ],
             [
              0.5555555555555556,
              "#d8576b"
             ],
             [
              0.6666666666666666,
              "#ed7953"
             ],
             [
              0.7777777777777778,
              "#fb9f3a"
             ],
             [
              0.8888888888888888,
              "#fdca26"
             ],
             [
              1,
              "#f0f921"
             ]
            ],
            "type": "surface"
           }
          ],
          "table": [
           {
            "cells": {
             "fill": {
              "color": "#EBF0F8"
             },
             "line": {
              "color": "white"
             }
            },
            "header": {
             "fill": {
              "color": "#C8D4E3"
             },
             "line": {
              "color": "white"
             }
            },
            "type": "table"
           }
          ]
         },
         "layout": {
          "annotationdefaults": {
           "arrowcolor": "#2a3f5f",
           "arrowhead": 0,
           "arrowwidth": 1
          },
          "autotypenumbers": "strict",
          "coloraxis": {
           "colorbar": {
            "outlinewidth": 0,
            "ticks": ""
           }
          },
          "colorscale": {
           "diverging": [
            [
             0,
             "#8e0152"
            ],
            [
             0.1,
             "#c51b7d"
            ],
            [
             0.2,
             "#de77ae"
            ],
            [
             0.3,
             "#f1b6da"
            ],
            [
             0.4,
             "#fde0ef"
            ],
            [
             0.5,
             "#f7f7f7"
            ],
            [
             0.6,
             "#e6f5d0"
            ],
            [
             0.7,
             "#b8e186"
            ],
            [
             0.8,
             "#7fbc41"
            ],
            [
             0.9,
             "#4d9221"
            ],
            [
             1,
             "#276419"
            ]
           ],
           "sequential": [
            [
             0,
             "#0d0887"
            ],
            [
             0.1111111111111111,
             "#46039f"
            ],
            [
             0.2222222222222222,
             "#7201a8"
            ],
            [
             0.3333333333333333,
             "#9c179e"
            ],
            [
             0.4444444444444444,
             "#bd3786"
            ],
            [
             0.5555555555555556,
             "#d8576b"
            ],
            [
             0.6666666666666666,
             "#ed7953"
            ],
            [
             0.7777777777777778,
             "#fb9f3a"
            ],
            [
             0.8888888888888888,
             "#fdca26"
            ],
            [
             1,
             "#f0f921"
            ]
           ],
           "sequentialminus": [
            [
             0,
             "#0d0887"
            ],
            [
             0.1111111111111111,
             "#46039f"
            ],
            [
             0.2222222222222222,
             "#7201a8"
            ],
            [
             0.3333333333333333,
             "#9c179e"
            ],
            [
             0.4444444444444444,
             "#bd3786"
            ],
            [
             0.5555555555555556,
             "#d8576b"
            ],
            [
             0.6666666666666666,
             "#ed7953"
            ],
            [
             0.7777777777777778,
             "#fb9f3a"
            ],
            [
             0.8888888888888888,
             "#fdca26"
            ],
            [
             1,
             "#f0f921"
            ]
           ]
          },
          "colorway": [
           "#636efa",
           "#EF553B",
           "#00cc96",
           "#ab63fa",
           "#FFA15A",
           "#19d3f3",
           "#FF6692",
           "#B6E880",
           "#FF97FF",
           "#FECB52"
          ],
          "font": {
           "color": "#2a3f5f"
          },
          "geo": {
           "bgcolor": "white",
           "lakecolor": "white",
           "landcolor": "#E5ECF6",
           "showlakes": true,
           "showland": true,
           "subunitcolor": "white"
          },
          "hoverlabel": {
           "align": "left"
          },
          "hovermode": "closest",
          "mapbox": {
           "style": "light"
          },
          "paper_bgcolor": "white",
          "plot_bgcolor": "#E5ECF6",
          "polar": {
           "angularaxis": {
            "gridcolor": "white",
            "linecolor": "white",
            "ticks": ""
           },
           "bgcolor": "#E5ECF6",
           "radialaxis": {
            "gridcolor": "white",
            "linecolor": "white",
            "ticks": ""
           }
          },
          "scene": {
           "xaxis": {
            "backgroundcolor": "#E5ECF6",
            "gridcolor": "white",
            "gridwidth": 2,
            "linecolor": "white",
            "showbackground": true,
            "ticks": "",
            "zerolinecolor": "white"
           },
           "yaxis": {
            "backgroundcolor": "#E5ECF6",
            "gridcolor": "white",
            "gridwidth": 2,
            "linecolor": "white",
            "showbackground": true,
            "ticks": "",
            "zerolinecolor": "white"
           },
           "zaxis": {
            "backgroundcolor": "#E5ECF6",
            "gridcolor": "white",
            "gridwidth": 2,
            "linecolor": "white",
            "showbackground": true,
            "ticks": "",
            "zerolinecolor": "white"
           }
          },
          "shapedefaults": {
           "line": {
            "color": "#2a3f5f"
           }
          },
          "ternary": {
           "aaxis": {
            "gridcolor": "white",
            "linecolor": "white",
            "ticks": ""
           },
           "baxis": {
            "gridcolor": "white",
            "linecolor": "white",
            "ticks": ""
           },
           "bgcolor": "#E5ECF6",
           "caxis": {
            "gridcolor": "white",
            "linecolor": "white",
            "ticks": ""
           }
          },
          "title": {
           "x": 0.05
          },
          "xaxis": {
           "automargin": true,
           "gridcolor": "white",
           "linecolor": "white",
           "ticks": "",
           "title": {
            "standoff": 15
           },
           "zerolinecolor": "white",
           "zerolinewidth": 2
          },
          "yaxis": {
           "automargin": true,
           "gridcolor": "white",
           "linecolor": "white",
           "ticks": "",
           "title": {
            "standoff": 15
           },
           "zerolinecolor": "white",
           "zerolinewidth": 2
          }
         }
        }
       }
      }
     },
     "metadata": {},
     "output_type": "display_data"
    }
   ],
   "source": [
    "from sklearn.decomposition import PCA\n",
    "import plotly.express as px\n",
    "\n",
    "pca = PCA(n_components=2)\n",
    "components = pca.fit_transform(leaf_values)\n",
    "\n",
    "print(pca.explained_variance_ratio_)\n",
    "print(pca.singular_values_)\n",
    "\n",
    "labels = {\n",
    "    str(i): f\"PC {i+1} ({var:.1f}%)\"\n",
    "    for i, var in enumerate(pca.explained_variance_ratio_ * 100)\n",
    "}\n",
    "\n",
    "fig = px.scatter_matrix(\n",
    "    components,\n",
    "    labels=labels,\n",
    "    dimensions=range(2),\n",
    "    color=my_nodenames_leaves  \n",
    ")\n",
    "\n",
    "fig.update_traces(diagonal_visible=False)\n",
    "fig.show()"
   ]
  },
  {
   "cell_type": "code",
   "execution_count": 265,
   "metadata": {},
   "outputs": [],
   "source": [
    "# pca = PCA(n_components=3)\n",
    "# components_leaves = pca.fit_transform(leaf_values)\n",
    "# components_all = pca.fit_transform(tree.data['value'][:,-1])\n",
    "\n",
    "# total_var = pca.explained_variance_ratio_.sum() * 100\n",
    "\n",
    "# fig = px.scatter_3d(\n",
    "#     components_leaves, x=0, y=1, z=2, color=leaves_parents,\n",
    "#     title=f'Total Explained Variance: {total_var:.2f}%',\n",
    "#     labels={'0': 'PC 1', '1': 'PC 2', '2': 'PC 3'}\n",
    "# )\n",
    "\n",
    "# fig.show() "
   ]
  },
  {
   "cell_type": "code",
   "execution_count": 266,
   "metadata": {},
   "outputs": [
    {
     "ename": "ValueError",
     "evalue": "shape mismatch: objects cannot be broadcast to a single shape.  Mismatch is between arg 0 with shape (5,) and arg 2 with shape (2,).",
     "output_type": "error",
     "traceback": [
      "\u001b[0;31m---------------------------------------------------------------------------\u001b[0m",
      "\u001b[0;31mValueError\u001b[0m                                Traceback (most recent call last)",
      "Cell \u001b[0;32mIn[266], line 6\u001b[0m\n\u001b[1;32m      3\u001b[0m X_mean \u001b[38;5;241m=\u001b[39m np\u001b[38;5;241m.\u001b[39mmean(leaf_values, axis\u001b[38;5;241m=\u001b[39m\u001b[38;5;241m0\u001b[39m)\n\u001b[1;32m      5\u001b[0m \u001b[38;5;66;03m# Generate new random shape using eigenvectors\u001b[39;00m\n\u001b[0;32m----> 6\u001b[0m b \u001b[38;5;241m=\u001b[39m np\u001b[38;5;241m.\u001b[39mrandom\u001b[38;5;241m.\u001b[39mnormal(\u001b[38;5;241m0\u001b[39m, np\u001b[38;5;241m.\u001b[39msqrt(pca\u001b[38;5;241m.\u001b[39mexplained_variance_), size\u001b[38;5;241m=\u001b[39m(\u001b[38;5;241m5\u001b[39m,))\n\u001b[1;32m      7\u001b[0m X_new \u001b[38;5;241m=\u001b[39m X_mean \u001b[38;5;241m+\u001b[39m np\u001b[38;5;241m.\u001b[39mdot(b, pca\u001b[38;5;241m.\u001b[39mcomponents_)\n\u001b[1;32m      9\u001b[0m \u001b[38;5;66;03m# Reshape to (x, y) pairs for visualization\u001b[39;00m\n",
      "File \u001b[0;32mnumpy/random/mtrand.pyx:1557\u001b[0m, in \u001b[0;36mnumpy.random.mtrand.RandomState.normal\u001b[0;34m()\u001b[0m\n",
      "File \u001b[0;32m_common.pyx:600\u001b[0m, in \u001b[0;36mnumpy.random._common.cont\u001b[0;34m()\u001b[0m\n",
      "File \u001b[0;32m_common.pyx:517\u001b[0m, in \u001b[0;36mnumpy.random._common.cont_broadcast_2\u001b[0;34m()\u001b[0m\n",
      "File \u001b[0;32m__init__.cython-30.pxd:780\u001b[0m, in \u001b[0;36mnumpy.PyArray_MultiIterNew3\u001b[0;34m()\u001b[0m\n",
      "\u001b[0;31mValueError\u001b[0m: shape mismatch: objects cannot be broadcast to a single shape.  Mismatch is between arg 0 with shape (5,) and arg 2 with shape (2,)."
     ]
    }
   ],
   "source": [
    "import numpy as np\n",
    "\n",
    "X_mean = np.mean(leaf_values, axis=0)\n",
    "\n",
    "# Generate new random shape using eigenvectors\n",
    "b = np.random.normal(0, np.sqrt(pca.explained_variance_), size=(5,))\n",
    "X_new = X_mean + np.dot(b, pca.components_)\n",
    "\n",
    "# Reshape to (x, y) pairs for visualization\n",
    "X_mean_reshaped = X_mean.reshape(n, 2)\n",
    "X_new_reshaped = X_new.reshape(n, 2)\n",
    "\n",
    "# Flip the data on the y-axis by negating the second column (the y-values)\n",
    "X_mean_reshaped = X_mean_reshaped.at[:, 1].set(X_mean_reshaped[:, 1]*-1)\n",
    "X_new_reshaped = X_new_reshaped.at[:, 1].set(X_new_reshaped[:, 1]*-1)\n",
    "\n",
    "# Plot original mean shape and new synthesized shape\n",
    "plt.figure(figsize=(6, 6))\n",
    "plt.scatter(X_mean_reshaped[:, 0], X_mean_reshaped[:, 1], label=\"Mean Shape\", marker=\"o\", color=\"blue\")\n",
    "plt.scatter(X_new_reshaped[:, 0], X_new_reshaped[:, 1], label=\"Generated Shape\", marker=\"x\", color=\"red\")\n",
    "\n",
    "for i in range(n):\n",
    "    plt.plot([X_mean_reshaped[i, 0], X_new_reshaped[i, 0]], \n",
    "             [X_mean_reshaped[i, 1], X_new_reshaped[i, 1]], 'k--', alpha=0.5)\n",
    "\n",
    "plt.legend()\n",
    "plt.title(\"Generated Landmark Shape Using PCA\")\n",
    "plt.xlabel(\"X\")\n",
    "plt.ylabel(\"Y\")\n",
    "plt.axis(\"equal\")\n",
    "plt.show()"
   ]
  },
  {
   "cell_type": "code",
   "execution_count": null,
   "metadata": {},
   "outputs": [
    {
     "name": "stdout",
     "output_type": "stream",
     "text": [
      "[ 2.89473669e-01  8.53594263e-02  5.73348117e-02  1.30096989e-02\n",
      "  6.88243471e-03  3.73331091e-03  2.02457019e-03  1.23066252e-03\n",
      "  9.18538630e-04  7.29720221e-04  5.84931605e-04  4.67673487e-04\n",
      "  4.30508173e-04  2.33623000e-04  1.66548874e-04  7.65039890e-05\n",
      "  1.03686673e-16  6.00961864e-17  5.47660970e-17  4.43382439e-17\n",
      "  3.82937645e-17  2.86442453e-17  2.45374451e-17  2.04407724e-17\n",
      "  2.03773293e-17  1.83761599e-17  1.67659495e-17  1.45063816e-17\n",
      "  1.28754422e-17  1.18736468e-17  1.17579731e-17  1.14756891e-17\n",
      "  1.03144205e-17  9.38329487e-18  9.03924110e-18  8.52470226e-18\n",
      "  8.40366151e-18  7.51815239e-18  7.43255284e-18  7.14116402e-18\n",
      "  6.60103165e-18  6.55949402e-18  6.47818345e-18  5.91667919e-18\n",
      "  5.85812805e-18  5.67933124e-18  5.44283128e-18  5.07698013e-18\n",
      "  4.96608968e-18  4.93744930e-18  4.87975002e-18  4.76841089e-18\n",
      "  4.47096922e-18  4.24087779e-18  3.90992330e-18  3.73419639e-18\n",
      "  3.49540224e-18  3.42212448e-18  3.21409326e-18  3.14855728e-18\n",
      "  3.13849824e-18  2.90153633e-18  2.89068350e-18  2.79921169e-18\n",
      "  2.60670976e-18  2.52231621e-18  2.44814453e-18  2.44117401e-18\n",
      "  2.34904033e-18  2.31768248e-18  2.03988688e-18  2.02000701e-18\n",
      "  2.00237127e-18  1.96582675e-18  1.96341779e-18  1.95371430e-18\n",
      "  1.88752358e-18  1.78340437e-18  1.62932697e-18  1.57312458e-18\n",
      "  1.43927000e-18  1.41347163e-18  1.29865213e-18  1.27742145e-18\n",
      "  1.22087888e-18  1.18665036e-18  1.16611575e-18  1.15343175e-18\n",
      "  1.15173792e-18  1.06248535e-18  9.84710740e-19  9.48979754e-19\n",
      "  9.38643379e-19  7.78863879e-19  7.42251130e-19  6.51034145e-19\n",
      "  6.04483787e-19  5.86513992e-19  5.85812467e-19  5.73580853e-19\n",
      "  4.87801005e-19  4.85694219e-19  4.24767618e-19  3.62979472e-19\n",
      "  3.56309048e-19  3.54317809e-19  3.30868457e-19  2.85936343e-19\n",
      "  2.55843800e-19  2.28316701e-19  2.06921577e-19  1.22558231e-19\n",
      "  1.00860646e-19  8.68899065e-20  7.00355708e-20  4.41295943e-20\n",
      "  2.14884655e-20  1.49112628e-20 -2.12815564e-20 -4.06630399e-20\n",
      " -9.30913026e-20 -1.17727476e-19 -1.77283069e-19 -2.08465987e-19\n",
      " -2.37775058e-19 -2.64830420e-19 -3.15204578e-19 -3.46074153e-19\n",
      " -3.72911930e-19 -3.85871344e-19 -3.88729149e-19 -4.66244157e-19\n",
      " -4.74259687e-19 -4.84655651e-19 -5.30909304e-19 -5.36074058e-19\n",
      " -5.43107721e-19 -7.33465015e-19 -7.83721886e-19 -8.07153903e-19\n",
      " -8.21667277e-19 -8.30489753e-19 -8.71109706e-19 -9.38554231e-19\n",
      " -1.01808864e-18 -1.02805023e-18 -1.03474736e-18 -1.04082013e-18\n",
      " -1.04872027e-18 -1.06225837e-18 -1.13809071e-18 -1.14981141e-18\n",
      " -1.15706241e-18 -1.21053327e-18 -1.23205504e-18 -1.23435946e-18\n",
      " -1.31648138e-18 -1.34281354e-18 -1.34563527e-18 -1.57709674e-18\n",
      " -1.58212518e-18 -1.58278261e-18 -1.68001511e-18 -1.70182471e-18\n",
      " -1.72012353e-18 -1.74453673e-18 -1.88402508e-18 -1.89921351e-18\n",
      " -1.90473179e-18 -2.18701855e-18 -2.18719280e-18 -2.27784199e-18\n",
      " -2.30247699e-18 -2.33858615e-18 -2.70841577e-18 -2.76533887e-18\n",
      " -2.80380978e-18 -2.84680909e-18 -2.85127625e-18 -2.90753047e-18\n",
      " -2.91338185e-18 -2.99207252e-18 -3.18013554e-18 -3.21586501e-18\n",
      " -3.23934194e-18 -3.56696251e-18 -3.62935680e-18 -3.74547633e-18\n",
      " -3.84064300e-18 -3.96947520e-18 -3.98893777e-18 -4.08791625e-18\n",
      " -4.34803724e-18 -4.37484241e-18 -4.44211312e-18 -4.88672201e-18\n",
      " -5.06560695e-18 -5.32834850e-18 -5.72079474e-18 -5.82904382e-18\n",
      " -5.91412408e-18 -6.35693070e-18 -6.52460777e-18 -6.79424433e-18\n",
      " -7.33896298e-18 -7.36399879e-18 -7.92222851e-18 -8.08994120e-18\n",
      " -8.15785552e-18 -8.80217882e-18 -8.82631367e-18 -8.89841242e-18\n",
      " -9.08314237e-18 -1.05294742e-17 -1.05295168e-17 -1.06506977e-17\n",
      " -1.14861678e-17 -1.17761677e-17 -1.26874334e-17 -1.27243813e-17\n",
      " -1.45869474e-17 -1.53500034e-17 -1.56585975e-17 -1.68102616e-17\n",
      " -1.82932642e-17 -2.10901270e-17 -2.29238987e-17 -2.74840220e-17\n",
      " -3.07320473e-17 -3.81743363e-17 -4.64178254e-17 -4.72163687e-17\n",
      " -5.15540395e-17 -6.51031018e-17]\n"
     ]
    }
   ],
   "source": [
    "def __PCA(data):\n",
    "    # P = (n − 1)^{-1} · (X − mean[X])^T · (X − mean[X])\n",
    "    mean = np.mean(data, axis=0, keepdims=True)\n",
    "    data_cent = (data - mean).T\n",
    "    cov_matrix = np.cov(data_cent)\n",
    "    # Extract eigenvalues and eigenvectors\n",
    "    w, v = np.linalg.eigh(cov_matrix)\n",
    "    PCevals = w[::-1]\n",
    "    PCevecs = v[:,::-1]\n",
    "    return PCevals, -PCevecs, mean\n",
    "\n",
    "def __transformData(features, PCevecs, mean, dims):\n",
    "    # S = (X − mean[X]) · U\n",
    "    centered_features = features - mean  \n",
    "    return np.dot(centered_features, PCevecs[:, 0:dims])\n",
    "\n",
    "PCevals, PCevecs, mean = __PCA(leaf_values)\n",
    "trainingFeatures2D = __transformData(leaf_values, PCevecs, mean, 2)\n",
    "\n",
    "print(PCevals)\n"
   ]
  },
  {
   "cell_type": "code",
   "execution_count": null,
   "metadata": {},
   "outputs": [
    {
     "data": {
      "application/vnd.plotly.v1+json": {
       "config": {
        "plotlyServerURL": "https://plot.ly"
       },
       "data": [
        {
         "diagonal": {
          "visible": false
         },
         "dimensions": [
          {
           "axis": {
            "matches": true
           },
           "label": "0",
           "values": [
            0.0012802262831618158
           ]
          },
          {
           "axis": {
            "matches": true
           },
           "label": "1",
           "values": [
            0.017361456750663425
           ]
          }
         ],
         "hovertemplate": "color=Papilio_gigon<br>%{xaxis.title.text}=%{x}<br>%{yaxis.title.text}=%{y}<extra></extra>",
         "legendgroup": "Papilio_gigon",
         "marker": {
          "color": "#636efa",
          "symbol": "circle"
         },
         "name": "Papilio_gigon",
         "showlegend": true,
         "type": "splom"
        },
        {
         "diagonal": {
          "visible": false
         },
         "dimensions": [
          {
           "axis": {
            "matches": true
           },
           "label": "0",
           "values": [
            -0.2292786651190758
           ]
          },
          {
           "axis": {
            "matches": true
           },
           "label": "1",
           "values": [
            0.2757753900310185
           ]
          }
         ],
         "hovertemplate": "color=Papilio_deiphobus<br>%{xaxis.title.text}=%{x}<br>%{yaxis.title.text}=%{y}<extra></extra>",
         "legendgroup": "Papilio_deiphobus",
         "marker": {
          "color": "#EF553B",
          "symbol": "circle"
         },
         "name": "Papilio_deiphobus",
         "showlegend": true,
         "type": "splom"
        },
        {
         "diagonal": {
          "visible": false
         },
         "dimensions": [
          {
           "axis": {
            "matches": true
           },
           "label": "0",
           "values": [
            0.23902541773793118
           ]
          },
          {
           "axis": {
            "matches": true
           },
           "label": "1",
           "values": [
            -0.03942182828285698
           ]
          }
         ],
         "hovertemplate": "color=Papilio_xuthus<br>%{xaxis.title.text}=%{x}<br>%{yaxis.title.text}=%{y}<extra></extra>",
         "legendgroup": "Papilio_xuthus",
         "marker": {
          "color": "#00cc96",
          "symbol": "circle"
         },
         "name": "Papilio_xuthus",
         "showlegend": true,
         "type": "splom"
        },
        {
         "diagonal": {
          "visible": false
         },
         "dimensions": [
          {
           "axis": {
            "matches": true
           },
           "label": "0",
           "values": [
            -0.2305698402828818
           ]
          },
          {
           "axis": {
            "matches": true
           },
           "label": "1",
           "values": [
            -0.30781682882522365
           ]
          }
         ],
         "hovertemplate": "color=Papilio_zelicaon<br>%{xaxis.title.text}=%{x}<br>%{yaxis.title.text}=%{y}<extra></extra>",
         "legendgroup": "Papilio_zelicaon",
         "marker": {
          "color": "#ab63fa",
          "symbol": "circle"
         },
         "name": "Papilio_zelicaon",
         "showlegend": true,
         "type": "splom"
        },
        {
         "diagonal": {
          "visible": false
         },
         "dimensions": [
          {
           "axis": {
            "matches": true
           },
           "label": "0",
           "values": [
            -0.3339917009791611
           ]
          },
          {
           "axis": {
            "matches": true
           },
           "label": "1",
           "values": [
            -0.14916249033059367
           ]
          }
         ],
         "hovertemplate": "color=Papilio_cresphontes<br>%{xaxis.title.text}=%{x}<br>%{yaxis.title.text}=%{y}<extra></extra>",
         "legendgroup": "Papilio_cresphontes",
         "marker": {
          "color": "#FFA15A",
          "symbol": "circle"
         },
         "name": "Papilio_cresphontes",
         "showlegend": true,
         "type": "splom"
        },
        {
         "diagonal": {
          "visible": false
         },
         "dimensions": [
          {
           "axis": {
            "matches": true
           },
           "label": "0",
           "values": [
            -0.22662075905564824
           ]
          },
          {
           "axis": {
            "matches": true
           },
           "label": "1",
           "values": [
            0.28565972495845526
           ]
          }
         ],
         "hovertemplate": "color=Papilio_troilus<br>%{xaxis.title.text}=%{x}<br>%{yaxis.title.text}=%{y}<extra></extra>",
         "legendgroup": "Papilio_troilus",
         "marker": {
          "color": "#19d3f3",
          "symbol": "circle"
         },
         "name": "Papilio_troilus",
         "showlegend": true,
         "type": "splom"
        },
        {
         "diagonal": {
          "visible": false
         },
         "dimensions": [
          {
           "axis": {
            "matches": true
           },
           "label": "0",
           "values": [
            -0.7059737469549106
           ]
          },
          {
           "axis": {
            "matches": true
           },
           "label": "1",
           "values": [
            -0.25548834793521824
           ]
          }
         ],
         "hovertemplate": "color=Papilio_aristodemus<br>%{xaxis.title.text}=%{x}<br>%{yaxis.title.text}=%{y}<extra></extra>",
         "legendgroup": "Papilio_aristodemus",
         "marker": {
          "color": "#FF6692",
          "symbol": "circle"
         },
         "name": "Papilio_aristodemus",
         "showlegend": true,
         "type": "splom"
        },
        {
         "diagonal": {
          "visible": false
         },
         "dimensions": [
          {
           "axis": {
            "matches": true
           },
           "label": "0",
           "values": [
            -0.5473599715101922
           ]
          },
          {
           "axis": {
            "matches": true
           },
           "label": "1",
           "values": [
            -0.06819109013919872
           ]
          }
         ],
         "hovertemplate": "color=Papilio_glaucus<br>%{xaxis.title.text}=%{x}<br>%{yaxis.title.text}=%{y}<extra></extra>",
         "legendgroup": "Papilio_glaucus",
         "marker": {
          "color": "#B6E880",
          "symbol": "circle"
         },
         "name": "Papilio_glaucus",
         "showlegend": true,
         "type": "splom"
        },
        {
         "diagonal": {
          "visible": false
         },
         "dimensions": [
          {
           "axis": {
            "matches": true
           },
           "label": "0",
           "values": [
            0.18922927487709718
           ]
          },
          {
           "axis": {
            "matches": true
           },
           "label": "1",
           "values": [
            0.3268169017183228
           ]
          }
         ],
         "hovertemplate": "color=Papilio_memnon<br>%{xaxis.title.text}=%{x}<br>%{yaxis.title.text}=%{y}<extra></extra>",
         "legendgroup": "Papilio_memnon",
         "marker": {
          "color": "#FF97FF",
          "symbol": "circle"
         },
         "name": "Papilio_memnon",
         "showlegend": true,
         "type": "splom"
        },
        {
         "diagonal": {
          "visible": false
         },
         "dimensions": [
          {
           "axis": {
            "matches": true
           },
           "label": "0",
           "values": [
            -0.023600192812337266
           ]
          },
          {
           "axis": {
            "matches": true
           },
           "label": "1",
           "values": [
            -0.004422923624952177
           ]
          }
         ],
         "hovertemplate": "color=Papilio_polyxenes<br>%{xaxis.title.text}=%{x}<br>%{yaxis.title.text}=%{y}<extra></extra>",
         "legendgroup": "Papilio_polyxenes",
         "marker": {
          "color": "#FECB52",
          "symbol": "circle"
         },
         "name": "Papilio_polyxenes",
         "showlegend": true,
         "type": "splom"
        },
        {
         "diagonal": {
          "visible": false
         },
         "dimensions": [
          {
           "axis": {
            "matches": true
           },
           "label": "0",
           "values": [
            -0.36871681659599764
           ]
          },
          {
           "axis": {
            "matches": true
           },
           "label": "1",
           "values": [
            -0.04071857961257418
           ]
          }
         ],
         "hovertemplate": "color=Papilio_thoas<br>%{xaxis.title.text}=%{x}<br>%{yaxis.title.text}=%{y}<extra></extra>",
         "legendgroup": "Papilio_thoas",
         "marker": {
          "color": "#636efa",
          "symbol": "circle"
         },
         "name": "Papilio_thoas",
         "showlegend": true,
         "type": "splom"
        },
        {
         "diagonal": {
          "visible": false
         },
         "dimensions": [
          {
           "axis": {
            "matches": true
           },
           "label": "0",
           "values": [
            0.09631150096861435
           ]
          },
          {
           "axis": {
            "matches": true
           },
           "label": "1",
           "values": [
            0.18172685999915356
           ]
          }
         ],
         "hovertemplate": "color=Papilio_ambrax<br>%{xaxis.title.text}=%{x}<br>%{yaxis.title.text}=%{y}<extra></extra>",
         "legendgroup": "Papilio_ambrax",
         "marker": {
          "color": "#EF553B",
          "symbol": "circle"
         },
         "name": "Papilio_ambrax",
         "showlegend": true,
         "type": "splom"
        },
        {
         "diagonal": {
          "visible": false
         },
         "dimensions": [
          {
           "axis": {
            "matches": true
           },
           "label": "0",
           "values": [
            1.540463746351453
           ]
          },
          {
           "axis": {
            "matches": true
           },
           "label": "1",
           "values": [
            -0.39198559319594706
           ]
          }
         ],
         "hovertemplate": "color=Papilio_antimachus<br>%{xaxis.title.text}=%{x}<br>%{yaxis.title.text}=%{y}<extra></extra>",
         "legendgroup": "Papilio_antimachus",
         "marker": {
          "color": "#00cc96",
          "symbol": "circle"
         },
         "name": "Papilio_antimachus",
         "showlegend": true,
         "type": "splom"
        },
        {
         "diagonal": {
          "visible": false
         },
         "dimensions": [
          {
           "axis": {
            "matches": true
           },
           "label": "0",
           "values": [
            -0.46395788142916133
           ]
          },
          {
           "axis": {
            "matches": true
           },
           "label": "1",
           "values": [
            -0.21643636113739068
           ]
          }
         ],
         "hovertemplate": "color=Papilio_phestus<br>%{xaxis.title.text}=%{x}<br>%{yaxis.title.text}=%{y}<extra></extra>",
         "legendgroup": "Papilio_phestus",
         "marker": {
          "color": "#ab63fa",
          "symbol": "circle"
         },
         "name": "Papilio_phestus",
         "showlegend": true,
         "type": "splom"
        },
        {
         "diagonal": {
          "visible": false
         },
         "dimensions": [
          {
           "axis": {
            "matches": true
           },
           "label": "0",
           "values": [
            -0.13178984044148362
           ]
          },
          {
           "axis": {
            "matches": true
           },
           "label": "1",
           "values": [
            0.11493870362695663
           ]
          }
         ],
         "hovertemplate": "color=Papilio_polytes<br>%{xaxis.title.text}=%{x}<br>%{yaxis.title.text}=%{y}<extra></extra>",
         "legendgroup": "Papilio_polytes",
         "marker": {
          "color": "#FFA15A",
          "symbol": "circle"
         },
         "name": "Papilio_polytes",
         "showlegend": true,
         "type": "splom"
        },
        {
         "diagonal": {
          "visible": false
         },
         "dimensions": [
          {
           "axis": {
            "matches": true
           },
           "label": "0",
           "values": [
            0.6520321101857836
           ]
          },
          {
           "axis": {
            "matches": true
           },
           "label": "1",
           "values": [
            0.6957171048256834
           ]
          }
         ],
         "hovertemplate": "color=Papilio_protenor<br>%{xaxis.title.text}=%{x}<br>%{yaxis.title.text}=%{y}<extra></extra>",
         "legendgroup": "Papilio_protenor",
         "marker": {
          "color": "#19d3f3",
          "symbol": "circle"
         },
         "name": "Papilio_protenor",
         "showlegend": true,
         "type": "splom"
        },
        {
         "diagonal": {
          "visible": false
         },
         "dimensions": [
          {
           "axis": {
            "matches": true
           },
           "label": "0",
           "values": [
            0.5435171387768087
           ]
          },
          {
           "axis": {
            "matches": true
           },
           "label": "1",
           "values": [
            -0.42435209882629804
           ]
          }
         ],
         "hovertemplate": "color=Papilio_slateri<br>%{xaxis.title.text}=%{x}<br>%{yaxis.title.text}=%{y}<extra></extra>",
         "legendgroup": "Papilio_slateri",
         "marker": {
          "color": "#FF6692",
          "symbol": "circle"
         },
         "name": "Papilio_slateri",
         "showlegend": true,
         "type": "splom"
        }
       ],
       "layout": {
        "dragmode": "select",
        "legend": {
         "title": {
          "text": "color"
         },
         "tracegroupgap": 0
        },
        "margin": {
         "t": 60
        },
        "template": {
         "data": {
          "bar": [
           {
            "error_x": {
             "color": "#2a3f5f"
            },
            "error_y": {
             "color": "#2a3f5f"
            },
            "marker": {
             "line": {
              "color": "#E5ECF6",
              "width": 0.5
             },
             "pattern": {
              "fillmode": "overlay",
              "size": 10,
              "solidity": 0.2
             }
            },
            "type": "bar"
           }
          ],
          "barpolar": [
           {
            "marker": {
             "line": {
              "color": "#E5ECF6",
              "width": 0.5
             },
             "pattern": {
              "fillmode": "overlay",
              "size": 10,
              "solidity": 0.2
             }
            },
            "type": "barpolar"
           }
          ],
          "carpet": [
           {
            "aaxis": {
             "endlinecolor": "#2a3f5f",
             "gridcolor": "white",
             "linecolor": "white",
             "minorgridcolor": "white",
             "startlinecolor": "#2a3f5f"
            },
            "baxis": {
             "endlinecolor": "#2a3f5f",
             "gridcolor": "white",
             "linecolor": "white",
             "minorgridcolor": "white",
             "startlinecolor": "#2a3f5f"
            },
            "type": "carpet"
           }
          ],
          "choropleth": [
           {
            "colorbar": {
             "outlinewidth": 0,
             "ticks": ""
            },
            "type": "choropleth"
           }
          ],
          "contour": [
           {
            "colorbar": {
             "outlinewidth": 0,
             "ticks": ""
            },
            "colorscale": [
             [
              0,
              "#0d0887"
             ],
             [
              0.1111111111111111,
              "#46039f"
             ],
             [
              0.2222222222222222,
              "#7201a8"
             ],
             [
              0.3333333333333333,
              "#9c179e"
             ],
             [
              0.4444444444444444,
              "#bd3786"
             ],
             [
              0.5555555555555556,
              "#d8576b"
             ],
             [
              0.6666666666666666,
              "#ed7953"
             ],
             [
              0.7777777777777778,
              "#fb9f3a"
             ],
             [
              0.8888888888888888,
              "#fdca26"
             ],
             [
              1,
              "#f0f921"
             ]
            ],
            "type": "contour"
           }
          ],
          "contourcarpet": [
           {
            "colorbar": {
             "outlinewidth": 0,
             "ticks": ""
            },
            "type": "contourcarpet"
           }
          ],
          "heatmap": [
           {
            "colorbar": {
             "outlinewidth": 0,
             "ticks": ""
            },
            "colorscale": [
             [
              0,
              "#0d0887"
             ],
             [
              0.1111111111111111,
              "#46039f"
             ],
             [
              0.2222222222222222,
              "#7201a8"
             ],
             [
              0.3333333333333333,
              "#9c179e"
             ],
             [
              0.4444444444444444,
              "#bd3786"
             ],
             [
              0.5555555555555556,
              "#d8576b"
             ],
             [
              0.6666666666666666,
              "#ed7953"
             ],
             [
              0.7777777777777778,
              "#fb9f3a"
             ],
             [
              0.8888888888888888,
              "#fdca26"
             ],
             [
              1,
              "#f0f921"
             ]
            ],
            "type": "heatmap"
           }
          ],
          "heatmapgl": [
           {
            "colorbar": {
             "outlinewidth": 0,
             "ticks": ""
            },
            "colorscale": [
             [
              0,
              "#0d0887"
             ],
             [
              0.1111111111111111,
              "#46039f"
             ],
             [
              0.2222222222222222,
              "#7201a8"
             ],
             [
              0.3333333333333333,
              "#9c179e"
             ],
             [
              0.4444444444444444,
              "#bd3786"
             ],
             [
              0.5555555555555556,
              "#d8576b"
             ],
             [
              0.6666666666666666,
              "#ed7953"
             ],
             [
              0.7777777777777778,
              "#fb9f3a"
             ],
             [
              0.8888888888888888,
              "#fdca26"
             ],
             [
              1,
              "#f0f921"
             ]
            ],
            "type": "heatmapgl"
           }
          ],
          "histogram": [
           {
            "marker": {
             "pattern": {
              "fillmode": "overlay",
              "size": 10,
              "solidity": 0.2
             }
            },
            "type": "histogram"
           }
          ],
          "histogram2d": [
           {
            "colorbar": {
             "outlinewidth": 0,
             "ticks": ""
            },
            "colorscale": [
             [
              0,
              "#0d0887"
             ],
             [
              0.1111111111111111,
              "#46039f"
             ],
             [
              0.2222222222222222,
              "#7201a8"
             ],
             [
              0.3333333333333333,
              "#9c179e"
             ],
             [
              0.4444444444444444,
              "#bd3786"
             ],
             [
              0.5555555555555556,
              "#d8576b"
             ],
             [
              0.6666666666666666,
              "#ed7953"
             ],
             [
              0.7777777777777778,
              "#fb9f3a"
             ],
             [
              0.8888888888888888,
              "#fdca26"
             ],
             [
              1,
              "#f0f921"
             ]
            ],
            "type": "histogram2d"
           }
          ],
          "histogram2dcontour": [
           {
            "colorbar": {
             "outlinewidth": 0,
             "ticks": ""
            },
            "colorscale": [
             [
              0,
              "#0d0887"
             ],
             [
              0.1111111111111111,
              "#46039f"
             ],
             [
              0.2222222222222222,
              "#7201a8"
             ],
             [
              0.3333333333333333,
              "#9c179e"
             ],
             [
              0.4444444444444444,
              "#bd3786"
             ],
             [
              0.5555555555555556,
              "#d8576b"
             ],
             [
              0.6666666666666666,
              "#ed7953"
             ],
             [
              0.7777777777777778,
              "#fb9f3a"
             ],
             [
              0.8888888888888888,
              "#fdca26"
             ],
             [
              1,
              "#f0f921"
             ]
            ],
            "type": "histogram2dcontour"
           }
          ],
          "mesh3d": [
           {
            "colorbar": {
             "outlinewidth": 0,
             "ticks": ""
            },
            "type": "mesh3d"
           }
          ],
          "parcoords": [
           {
            "line": {
             "colorbar": {
              "outlinewidth": 0,
              "ticks": ""
             }
            },
            "type": "parcoords"
           }
          ],
          "pie": [
           {
            "automargin": true,
            "type": "pie"
           }
          ],
          "scatter": [
           {
            "fillpattern": {
             "fillmode": "overlay",
             "size": 10,
             "solidity": 0.2
            },
            "type": "scatter"
           }
          ],
          "scatter3d": [
           {
            "line": {
             "colorbar": {
              "outlinewidth": 0,
              "ticks": ""
             }
            },
            "marker": {
             "colorbar": {
              "outlinewidth": 0,
              "ticks": ""
             }
            },
            "type": "scatter3d"
           }
          ],
          "scattercarpet": [
           {
            "marker": {
             "colorbar": {
              "outlinewidth": 0,
              "ticks": ""
             }
            },
            "type": "scattercarpet"
           }
          ],
          "scattergeo": [
           {
            "marker": {
             "colorbar": {
              "outlinewidth": 0,
              "ticks": ""
             }
            },
            "type": "scattergeo"
           }
          ],
          "scattergl": [
           {
            "marker": {
             "colorbar": {
              "outlinewidth": 0,
              "ticks": ""
             }
            },
            "type": "scattergl"
           }
          ],
          "scattermapbox": [
           {
            "marker": {
             "colorbar": {
              "outlinewidth": 0,
              "ticks": ""
             }
            },
            "type": "scattermapbox"
           }
          ],
          "scatterpolar": [
           {
            "marker": {
             "colorbar": {
              "outlinewidth": 0,
              "ticks": ""
             }
            },
            "type": "scatterpolar"
           }
          ],
          "scatterpolargl": [
           {
            "marker": {
             "colorbar": {
              "outlinewidth": 0,
              "ticks": ""
             }
            },
            "type": "scatterpolargl"
           }
          ],
          "scatterternary": [
           {
            "marker": {
             "colorbar": {
              "outlinewidth": 0,
              "ticks": ""
             }
            },
            "type": "scatterternary"
           }
          ],
          "surface": [
           {
            "colorbar": {
             "outlinewidth": 0,
             "ticks": ""
            },
            "colorscale": [
             [
              0,
              "#0d0887"
             ],
             [
              0.1111111111111111,
              "#46039f"
             ],
             [
              0.2222222222222222,
              "#7201a8"
             ],
             [
              0.3333333333333333,
              "#9c179e"
             ],
             [
              0.4444444444444444,
              "#bd3786"
             ],
             [
              0.5555555555555556,
              "#d8576b"
             ],
             [
              0.6666666666666666,
              "#ed7953"
             ],
             [
              0.7777777777777778,
              "#fb9f3a"
             ],
             [
              0.8888888888888888,
              "#fdca26"
             ],
             [
              1,
              "#f0f921"
             ]
            ],
            "type": "surface"
           }
          ],
          "table": [
           {
            "cells": {
             "fill": {
              "color": "#EBF0F8"
             },
             "line": {
              "color": "white"
             }
            },
            "header": {
             "fill": {
              "color": "#C8D4E3"
             },
             "line": {
              "color": "white"
             }
            },
            "type": "table"
           }
          ]
         },
         "layout": {
          "annotationdefaults": {
           "arrowcolor": "#2a3f5f",
           "arrowhead": 0,
           "arrowwidth": 1
          },
          "autotypenumbers": "strict",
          "coloraxis": {
           "colorbar": {
            "outlinewidth": 0,
            "ticks": ""
           }
          },
          "colorscale": {
           "diverging": [
            [
             0,
             "#8e0152"
            ],
            [
             0.1,
             "#c51b7d"
            ],
            [
             0.2,
             "#de77ae"
            ],
            [
             0.3,
             "#f1b6da"
            ],
            [
             0.4,
             "#fde0ef"
            ],
            [
             0.5,
             "#f7f7f7"
            ],
            [
             0.6,
             "#e6f5d0"
            ],
            [
             0.7,
             "#b8e186"
            ],
            [
             0.8,
             "#7fbc41"
            ],
            [
             0.9,
             "#4d9221"
            ],
            [
             1,
             "#276419"
            ]
           ],
           "sequential": [
            [
             0,
             "#0d0887"
            ],
            [
             0.1111111111111111,
             "#46039f"
            ],
            [
             0.2222222222222222,
             "#7201a8"
            ],
            [
             0.3333333333333333,
             "#9c179e"
            ],
            [
             0.4444444444444444,
             "#bd3786"
            ],
            [
             0.5555555555555556,
             "#d8576b"
            ],
            [
             0.6666666666666666,
             "#ed7953"
            ],
            [
             0.7777777777777778,
             "#fb9f3a"
            ],
            [
             0.8888888888888888,
             "#fdca26"
            ],
            [
             1,
             "#f0f921"
            ]
           ],
           "sequentialminus": [
            [
             0,
             "#0d0887"
            ],
            [
             0.1111111111111111,
             "#46039f"
            ],
            [
             0.2222222222222222,
             "#7201a8"
            ],
            [
             0.3333333333333333,
             "#9c179e"
            ],
            [
             0.4444444444444444,
             "#bd3786"
            ],
            [
             0.5555555555555556,
             "#d8576b"
            ],
            [
             0.6666666666666666,
             "#ed7953"
            ],
            [
             0.7777777777777778,
             "#fb9f3a"
            ],
            [
             0.8888888888888888,
             "#fdca26"
            ],
            [
             1,
             "#f0f921"
            ]
           ]
          },
          "colorway": [
           "#636efa",
           "#EF553B",
           "#00cc96",
           "#ab63fa",
           "#FFA15A",
           "#19d3f3",
           "#FF6692",
           "#B6E880",
           "#FF97FF",
           "#FECB52"
          ],
          "font": {
           "color": "#2a3f5f"
          },
          "geo": {
           "bgcolor": "white",
           "lakecolor": "white",
           "landcolor": "#E5ECF6",
           "showlakes": true,
           "showland": true,
           "subunitcolor": "white"
          },
          "hoverlabel": {
           "align": "left"
          },
          "hovermode": "closest",
          "mapbox": {
           "style": "light"
          },
          "paper_bgcolor": "white",
          "plot_bgcolor": "#E5ECF6",
          "polar": {
           "angularaxis": {
            "gridcolor": "white",
            "linecolor": "white",
            "ticks": ""
           },
           "bgcolor": "#E5ECF6",
           "radialaxis": {
            "gridcolor": "white",
            "linecolor": "white",
            "ticks": ""
           }
          },
          "scene": {
           "xaxis": {
            "backgroundcolor": "#E5ECF6",
            "gridcolor": "white",
            "gridwidth": 2,
            "linecolor": "white",
            "showbackground": true,
            "ticks": "",
            "zerolinecolor": "white"
           },
           "yaxis": {
            "backgroundcolor": "#E5ECF6",
            "gridcolor": "white",
            "gridwidth": 2,
            "linecolor": "white",
            "showbackground": true,
            "ticks": "",
            "zerolinecolor": "white"
           },
           "zaxis": {
            "backgroundcolor": "#E5ECF6",
            "gridcolor": "white",
            "gridwidth": 2,
            "linecolor": "white",
            "showbackground": true,
            "ticks": "",
            "zerolinecolor": "white"
           }
          },
          "shapedefaults": {
           "line": {
            "color": "#2a3f5f"
           }
          },
          "ternary": {
           "aaxis": {
            "gridcolor": "white",
            "linecolor": "white",
            "ticks": ""
           },
           "baxis": {
            "gridcolor": "white",
            "linecolor": "white",
            "ticks": ""
           },
           "bgcolor": "#E5ECF6",
           "caxis": {
            "gridcolor": "white",
            "linecolor": "white",
            "ticks": ""
           }
          },
          "title": {
           "x": 0.05
          },
          "xaxis": {
           "automargin": true,
           "gridcolor": "white",
           "linecolor": "white",
           "ticks": "",
           "title": {
            "standoff": 15
           },
           "zerolinecolor": "white",
           "zerolinewidth": 2
          },
          "yaxis": {
           "automargin": true,
           "gridcolor": "white",
           "linecolor": "white",
           "ticks": "",
           "title": {
            "standoff": 15
           },
           "zerolinecolor": "white",
           "zerolinewidth": 2
          }
         }
        }
       }
      }
     },
     "metadata": {},
     "output_type": "display_data"
    }
   ],
   "source": [
    "fig = px.scatter_matrix(\n",
    "    trainingFeatures2D,\n",
    "    dimensions=range(2),\n",
    "    color=my_nodenames_leaves  \n",
    ")\n",
    "\n",
    "fig.update_traces(diagonal_visible=False)\n",
    "\n",
    "\n",
    "fig.show()"
   ]
  },
  {
   "cell_type": "code",
   "execution_count": null,
   "metadata": {},
   "outputs": [
    {
     "name": "stdout",
     "output_type": "stream",
     "text": [
      "[[ 51  26   0   0  26   0  26   0   0   0   0  26  26   0   0   0   0]\n",
      " [ 26  57   0   0  39   0  39   0   0   0   0  39  39   0   0   0   0]\n",
      " [  0   0  63  28   0  22   0  22  22  22  22   0   0  22  22  22  22]\n",
      " [  0   0  28  83   0  22   0  22  22  22  22   0   0  22  22  22  22]\n",
      " [ 26  39   0   0  55   0  52   0   0   0   0  52  52   0   0   0   0]\n",
      " [  0   0  22  22   0  57   0  38  38  38  51   0   0  38  38  51  51]\n",
      " [ 26  39   0   0  52   0  66   0   0   0   0  64  64   0   0   0   0]\n",
      " [  0   0  22  22   0  38   0  58  56  46  38   0   0  46  46  38  38]\n",
      " [  0   0  22  22   0  38   0  56  65  46  38   0   0  46  46  38  38]\n",
      " [  0   0  22  22   0  38   0  46  46  59  38   0   0  55  55  38  38]\n",
      " [  0   0  22  22   0  51   0  38  38  38  99   0   0  38  38  93  93]\n",
      " [ 26  39   0   0  52   0  64   0   0   0   0  89  87   0   0   0   0]\n",
      " [ 26  39   0   0  52   0  64   0   0   0   0  87 108   0   0   0   0]\n",
      " [  0   0  22  22   0  38   0  46  46  55  38   0   0  73  60  38  38]\n",
      " [  0   0  22  22   0  38   0  46  46  55  38   0   0  60  73  38  38]\n",
      " [  0   0  22  22   0  51   0  38  38  38  93   0   0  38  38 125 101]\n",
      " [  0   0  22  22   0  51   0  38  38  38  93   0   0  38  38 101 113]]\n"
     ]
    }
   ],
   "source": [
    "def generate_C(tree):\n",
    "\n",
    "    # Add cumulative edge lengths and level to tree\n",
    "    tree.add_property('level', shape=(1,))\n",
    "    tree.add_property('cum_sum_edge_length', shape=(1,))\n",
    "        \n",
    "    @jax.jit\n",
    "    def down(edge_length, parent_cum_sum_edge_length, parent_level, **args):\n",
    "        return {'cum_sum_edge_length': edge_length + parent_cum_sum_edge_length, 'level' : 1 + parent_level}\n",
    "\n",
    "    downmodel = DownLambda(down_fn=down)\n",
    "\n",
    "    exe = OrderedExecutor(downmodel)\n",
    "\n",
    "    exe.down(tree)\n",
    "\n",
    "    # Generate C matrix\n",
    "    \n",
    "    n_leaves = len(tree.data['value'][tree.is_leaf])\n",
    "\n",
    "    C = np.zeros((n_leaves,n_leaves),int)\n",
    "\n",
    "    \"\"\" def compute_edge_lengths(node:TopologyNode):\n",
    "        lengths = []\n",
    "        def rec(n):\n",
    "            lengths.append(n.data['edge_length'])\n",
    "            if n.parent!=None:\n",
    "                rec(n.parent)\n",
    "        rec(node)\n",
    "        return sum(lengths) \"\"\"\n",
    "        \n",
    "    def get_edge_lengths(a:TopologyNode):\n",
    "        if tree.data['cum_sum_edge_length'][a.id][0] != 0:\n",
    "            cum_sum = tree.data['cum_sum_edge_length'][a.id][0] + tree.data['edge_length'][0][0]\n",
    "            return cum_sum\n",
    "        else: \n",
    "            return 0\n",
    "\n",
    "    # def find_shared_edge_lengths(a:TopologyNode, b:TopologyNode, i:int, j:int):\n",
    "    #         # If node a and b is the same node, compute length from the node to the root\n",
    "    #         if (a.name==b.name):\n",
    "    #             C[i,j] = get_edge_lengths(a)\n",
    "    #         # If not, look at parent nodes if they exist \n",
    "    #         elif (a.name!=b.name and a.parent!=None and b.parent!=None):\n",
    "    #             # If node a and b is not the same node, but share the same parent, compute length from parent node to root\n",
    "    #             if (a.parent.name==b.parent.name):\n",
    "    #                 C[i,j] = get_edge_lengths(a.parent) \n",
    "    #             # If node a and b is not the same and they don't share a parent, go one level up\n",
    "    #             if (a.parent.name!=b.parent.name):\n",
    "    #                 # If a is a deeper level than b\n",
    "    #                 if tree.data['level'][a.id][0] > tree.data['level'][b.id][0]:\n",
    "    #                     find_shared_edge_lengths(a.parent,b,i,j)       \n",
    "    #                 # If b is a deeper level than a\n",
    "    #                 elif tree.data['level'][a.id][0] < tree.data['level'][b.id][0]:\n",
    "    #                     find_shared_edge_lengths(a,b.parent,i,j)  \n",
    "    #                 # If they are same level \n",
    "    #                 else:\n",
    "    #                     find_shared_edge_lengths(a.parent,b.parent,i,j) \n",
    "    \n",
    "    \n",
    "    \n",
    "    def find_shared_edge_lengths(a:TopologyNode, b:TopologyNode):\n",
    "        # If the two nodes are on a different level, move one node a level up\n",
    "        while tree.data['level'][a.id][0] > tree.data['level'][b.id][0]:\n",
    "            a = a.parent\n",
    "        while tree.data['level'][a.id][0] < tree.data['level'][b.id][0]:\n",
    "            b = b.parent\n",
    "        # If the nodes are on the same level but don't have the same parent, move both a level up \n",
    "        while a.name!=b.name:\n",
    "            a = a.parent\n",
    "            b = b.parent\n",
    "                \n",
    "        return get_edge_lengths(a)\n",
    "            \n",
    "\n",
    "    for i,a in enumerate(tree.iter_topology_leaves_bfs()):\n",
    "        for j,b in enumerate(tree.iter_topology_leaves_bfs()):\n",
    "                C[i,j] = find_shared_edge_lengths(a,b)\n",
    "                \n",
    "    return C\n",
    "    \n",
    "C = generate_C(tree) \n",
    "\n",
    "print(C)\n",
    "\n",
    "    "
   ]
  },
  {
   "cell_type": "code",
   "execution_count": 267,
   "metadata": {},
   "outputs": [
    {
     "data": {
      "application/vnd.plotly.v1+json": {
       "config": {
        "plotlyServerURL": "https://plot.ly"
       },
       "data": [
        {
         "diagonal": {
          "visible": false
         },
         "dimensions": [
          {
           "axis": {
            "matches": true
           },
           "label": "0",
           "values": [
            0.14659790926597172
           ]
          },
          {
           "axis": {
            "matches": true
           },
           "label": "1",
           "values": [
            -0.020280944669438257
           ]
          }
         ],
         "hovertemplate": "color=Papilio_gigon<br>%{xaxis.title.text}=%{x}<br>%{yaxis.title.text}=%{y}<extra></extra>",
         "legendgroup": "Papilio_gigon",
         "marker": {
          "color": "#636efa",
          "symbol": "circle"
         },
         "name": "Papilio_gigon",
         "showlegend": true,
         "type": "splom"
        },
        {
         "diagonal": {
          "visible": false
         },
         "dimensions": [
          {
           "axis": {
            "matches": true
           },
           "label": "0",
           "values": [
            -0.039192873822189445
           ]
          },
          {
           "axis": {
            "matches": true
           },
           "label": "1",
           "values": [
            -0.40365941531879446
           ]
          }
         ],
         "hovertemplate": "color=Papilio_deiphobus<br>%{xaxis.title.text}=%{x}<br>%{yaxis.title.text}=%{y}<extra></extra>",
         "legendgroup": "Papilio_deiphobus",
         "marker": {
          "color": "#EF553B",
          "symbol": "circle"
         },
         "name": "Papilio_deiphobus",
         "showlegend": true,
         "type": "splom"
        },
        {
         "diagonal": {
          "visible": false
         },
         "dimensions": [
          {
           "axis": {
            "matches": true
           },
           "label": "0",
           "values": [
            0.3462565815006545
           ]
          },
          {
           "axis": {
            "matches": true
           },
           "label": "1",
           "values": [
            0.1371536419097957
           ]
          }
         ],
         "hovertemplate": "color=Papilio_xuthus<br>%{xaxis.title.text}=%{x}<br>%{yaxis.title.text}=%{y}<extra></extra>",
         "legendgroup": "Papilio_xuthus",
         "marker": {
          "color": "#00cc96",
          "symbol": "circle"
         },
         "name": "Papilio_xuthus",
         "showlegend": true,
         "type": "splom"
        },
        {
         "diagonal": {
          "visible": false
         },
         "dimensions": [
          {
           "axis": {
            "matches": true
           },
           "label": "0",
           "values": [
            -0.12872090701227262
           ]
          },
          {
           "axis": {
            "matches": true
           },
           "label": "1",
           "values": [
            0.2358776749625764
           ]
          }
         ],
         "hovertemplate": "color=Papilio_zelicaon<br>%{xaxis.title.text}=%{x}<br>%{yaxis.title.text}=%{y}<extra></extra>",
         "legendgroup": "Papilio_zelicaon",
         "marker": {
          "color": "#ab63fa",
          "symbol": "circle"
         },
         "name": "Papilio_zelicaon",
         "showlegend": true,
         "type": "splom"
        },
        {
         "diagonal": {
          "visible": false
         },
         "dimensions": [
          {
           "axis": {
            "matches": true
           },
           "label": "0",
           "values": [
            -0.23018937175989912
           ]
          },
          {
           "axis": {
            "matches": true
           },
           "label": "1",
           "values": [
            0.23111182207127812
           ]
          }
         ],
         "hovertemplate": "color=Papilio_cresphontes<br>%{xaxis.title.text}=%{x}<br>%{yaxis.title.text}=%{y}<extra></extra>",
         "legendgroup": "Papilio_cresphontes",
         "marker": {
          "color": "#FFA15A",
          "symbol": "circle"
         },
         "name": "Papilio_cresphontes",
         "showlegend": true,
         "type": "splom"
        },
        {
         "diagonal": {
          "visible": false
         },
         "dimensions": [
          {
           "axis": {
            "matches": true
           },
           "label": "0",
           "values": [
            -0.06813754606841438
           ]
          },
          {
           "axis": {
            "matches": true
           },
           "label": "1",
           "values": [
            -0.1931498106578063
           ]
          }
         ],
         "hovertemplate": "color=Papilio_troilus<br>%{xaxis.title.text}=%{x}<br>%{yaxis.title.text}=%{y}<extra></extra>",
         "legendgroup": "Papilio_troilus",
         "marker": {
          "color": "#19d3f3",
          "symbol": "circle"
         },
         "name": "Papilio_troilus",
         "showlegend": true,
         "type": "splom"
        },
        {
         "diagonal": {
          "visible": false
         },
         "dimensions": [
          {
           "axis": {
            "matches": true
           },
           "label": "0",
           "values": [
            -0.599878048075968
           ]
          },
          {
           "axis": {
            "matches": true
           },
           "label": "1",
           "values": [
            0.15934853210637856
           ]
          }
         ],
         "hovertemplate": "color=Papilio_aristodemus<br>%{xaxis.title.text}=%{x}<br>%{yaxis.title.text}=%{y}<extra></extra>",
         "legendgroup": "Papilio_aristodemus",
         "marker": {
          "color": "#FF6692",
          "symbol": "circle"
         },
         "name": "Papilio_aristodemus",
         "showlegend": true,
         "type": "splom"
        },
        {
         "diagonal": {
          "visible": false
         },
         "dimensions": [
          {
           "axis": {
            "matches": true
           },
           "label": "0",
           "values": [
            -0.43560358848794883
           ]
          },
          {
           "axis": {
            "matches": true
           },
           "label": "1",
           "values": [
            0.046917118199472335
           ]
          }
         ],
         "hovertemplate": "color=Papilio_glaucus<br>%{xaxis.title.text}=%{x}<br>%{yaxis.title.text}=%{y}<extra></extra>",
         "legendgroup": "Papilio_glaucus",
         "marker": {
          "color": "#B6E880",
          "symbol": "circle"
         },
         "name": "Papilio_glaucus",
         "showlegend": true,
         "type": "splom"
        },
        {
         "diagonal": {
          "visible": false
         },
         "dimensions": [
          {
           "axis": {
            "matches": true
           },
           "label": "0",
           "values": [
            0.37865360071840437
           ]
          },
          {
           "axis": {
            "matches": true
           },
           "label": "1",
           "values": [
            -0.402959029659261
           ]
          }
         ],
         "hovertemplate": "color=Papilio_memnon<br>%{xaxis.title.text}=%{x}<br>%{yaxis.title.text}=%{y}<extra></extra>",
         "legendgroup": "Papilio_memnon",
         "marker": {
          "color": "#FF97FF",
          "symbol": "circle"
         },
         "name": "Papilio_memnon",
         "showlegend": true,
         "type": "splom"
        },
        {
         "diagonal": {
          "visible": false
         },
         "dimensions": [
          {
           "axis": {
            "matches": true
           },
           "label": "0",
           "values": [
            0.10030691363229959
           ]
          },
          {
           "axis": {
            "matches": true
           },
           "label": "1",
           "values": [
            0.10887731728770228
           ]
          }
         ],
         "hovertemplate": "color=Papilio_polyxenes<br>%{xaxis.title.text}=%{x}<br>%{yaxis.title.text}=%{y}<extra></extra>",
         "legendgroup": "Papilio_polyxenes",
         "marker": {
          "color": "#FECB52",
          "symbol": "circle"
         },
         "name": "Papilio_polyxenes",
         "showlegend": true,
         "type": "splom"
        },
        {
         "diagonal": {
          "visible": false
         },
         "dimensions": [
          {
           "axis": {
            "matches": true
           },
           "label": "0",
           "values": [
            -0.25213260815483957
           ]
          },
          {
           "axis": {
            "matches": true
           },
           "label": "1",
           "values": [
            0.14644968057608057
           ]
          }
         ],
         "hovertemplate": "color=Papilio_thoas<br>%{xaxis.title.text}=%{x}<br>%{yaxis.title.text}=%{y}<extra></extra>",
         "legendgroup": "Papilio_thoas",
         "marker": {
          "color": "#636efa",
          "symbol": "circle"
         },
         "name": "Papilio_thoas",
         "showlegend": true,
         "type": "splom"
        },
        {
         "diagonal": {
          "visible": false
         },
         "dimensions": [
          {
           "axis": {
            "matches": true
           },
           "label": "0",
           "values": [
            0.2605521105234776
           ]
          },
          {
           "axis": {
            "matches": true
           },
           "label": "1",
           "values": [
            -0.3714857298226897
           ]
          }
         ],
         "hovertemplate": "color=Papilio_ambrax<br>%{xaxis.title.text}=%{x}<br>%{yaxis.title.text}=%{y}<extra></extra>",
         "legendgroup": "Papilio_ambrax",
         "marker": {
          "color": "#EF553B",
          "symbol": "circle"
         },
         "name": "Papilio_ambrax",
         "showlegend": true,
         "type": "splom"
        },
        {
         "diagonal": {
          "visible": false
         },
         "dimensions": [
          {
           "axis": {
            "matches": true
           },
           "label": "0",
           "values": [
            1.6149548093346457
           ]
          },
          {
           "axis": {
            "matches": true
           },
           "label": "1",
           "values": [
            0.5703231427664825
           ]
          }
         ],
         "hovertemplate": "color=Papilio_antimachus<br>%{xaxis.title.text}=%{x}<br>%{yaxis.title.text}=%{y}<extra></extra>",
         "legendgroup": "Papilio_antimachus",
         "marker": {
          "color": "#00cc96",
          "symbol": "circle"
         },
         "name": "Papilio_antimachus",
         "showlegend": true,
         "type": "splom"
        },
        {
         "diagonal": {
          "visible": false
         },
         "dimensions": [
          {
           "axis": {
            "matches": true
           },
           "label": "0",
           "values": [
            -0.3111338653509388
           ]
          },
          {
           "axis": {
            "matches": true
           },
           "label": "1",
           "values": [
            -0.1749768211641931
           ]
          }
         ],
         "hovertemplate": "color=Papilio_phestus<br>%{xaxis.title.text}=%{x}<br>%{yaxis.title.text}=%{y}<extra></extra>",
         "legendgroup": "Papilio_phestus",
         "marker": {
          "color": "#ab63fa",
          "symbol": "circle"
         },
         "name": "Papilio_phestus",
         "showlegend": true,
         "type": "splom"
        },
        {
         "diagonal": {
          "visible": false
         },
         "dimensions": [
          {
           "axis": {
            "matches": true
           },
           "label": "0",
           "values": [
            0.011731011789934737
           ]
          },
          {
           "axis": {
            "matches": true
           },
           "label": "1",
           "values": [
            -0.18672309901727235
           ]
          }
         ],
         "hovertemplate": "color=Papilio_polytes<br>%{xaxis.title.text}=%{x}<br>%{yaxis.title.text}=%{y}<extra></extra>",
         "legendgroup": "Papilio_polytes",
         "marker": {
          "color": "#FFA15A",
          "symbol": "circle"
         },
         "name": "Papilio_polytes",
         "showlegend": true,
         "type": "splom"
        },
        {
         "diagonal": {
          "visible": false
         },
         "dimensions": [
          {
           "axis": {
            "matches": true
           },
           "label": "0",
           "values": [
            0.8250016811036835
           ]
          },
          {
           "axis": {
            "matches": true
           },
           "label": "1",
           "values": [
            -0.3758278309766936
           ]
          }
         ],
         "hovertemplate": "color=Papilio_protenor<br>%{xaxis.title.text}=%{x}<br>%{yaxis.title.text}=%{y}<extra></extra>",
         "legendgroup": "Papilio_protenor",
         "marker": {
          "color": "#19d3f3",
          "symbol": "circle"
         },
         "name": "Papilio_protenor",
         "showlegend": true,
         "type": "splom"
        },
        {
         "diagonal": {
          "visible": false
         },
         "dimensions": [
          {
           "axis": {
            "matches": true
           },
           "label": "0",
           "values": [
            0.6379589021206701
           ]
          },
          {
           "axis": {
            "matches": true
           },
           "label": "1",
           "values": [
            0.1632881463115858
           ]
          }
         ],
         "hovertemplate": "color=Papilio_slateri<br>%{xaxis.title.text}=%{x}<br>%{yaxis.title.text}=%{y}<extra></extra>",
         "legendgroup": "Papilio_slateri",
         "marker": {
          "color": "#FF6692",
          "symbol": "circle"
         },
         "name": "Papilio_slateri",
         "showlegend": true,
         "type": "splom"
        }
       ],
       "layout": {
        "dragmode": "select",
        "legend": {
         "title": {
          "text": "color"
         },
         "tracegroupgap": 0
        },
        "margin": {
         "t": 60
        },
        "template": {
         "data": {
          "bar": [
           {
            "error_x": {
             "color": "#2a3f5f"
            },
            "error_y": {
             "color": "#2a3f5f"
            },
            "marker": {
             "line": {
              "color": "#E5ECF6",
              "width": 0.5
             },
             "pattern": {
              "fillmode": "overlay",
              "size": 10,
              "solidity": 0.2
             }
            },
            "type": "bar"
           }
          ],
          "barpolar": [
           {
            "marker": {
             "line": {
              "color": "#E5ECF6",
              "width": 0.5
             },
             "pattern": {
              "fillmode": "overlay",
              "size": 10,
              "solidity": 0.2
             }
            },
            "type": "barpolar"
           }
          ],
          "carpet": [
           {
            "aaxis": {
             "endlinecolor": "#2a3f5f",
             "gridcolor": "white",
             "linecolor": "white",
             "minorgridcolor": "white",
             "startlinecolor": "#2a3f5f"
            },
            "baxis": {
             "endlinecolor": "#2a3f5f",
             "gridcolor": "white",
             "linecolor": "white",
             "minorgridcolor": "white",
             "startlinecolor": "#2a3f5f"
            },
            "type": "carpet"
           }
          ],
          "choropleth": [
           {
            "colorbar": {
             "outlinewidth": 0,
             "ticks": ""
            },
            "type": "choropleth"
           }
          ],
          "contour": [
           {
            "colorbar": {
             "outlinewidth": 0,
             "ticks": ""
            },
            "colorscale": [
             [
              0,
              "#0d0887"
             ],
             [
              0.1111111111111111,
              "#46039f"
             ],
             [
              0.2222222222222222,
              "#7201a8"
             ],
             [
              0.3333333333333333,
              "#9c179e"
             ],
             [
              0.4444444444444444,
              "#bd3786"
             ],
             [
              0.5555555555555556,
              "#d8576b"
             ],
             [
              0.6666666666666666,
              "#ed7953"
             ],
             [
              0.7777777777777778,
              "#fb9f3a"
             ],
             [
              0.8888888888888888,
              "#fdca26"
             ],
             [
              1,
              "#f0f921"
             ]
            ],
            "type": "contour"
           }
          ],
          "contourcarpet": [
           {
            "colorbar": {
             "outlinewidth": 0,
             "ticks": ""
            },
            "type": "contourcarpet"
           }
          ],
          "heatmap": [
           {
            "colorbar": {
             "outlinewidth": 0,
             "ticks": ""
            },
            "colorscale": [
             [
              0,
              "#0d0887"
             ],
             [
              0.1111111111111111,
              "#46039f"
             ],
             [
              0.2222222222222222,
              "#7201a8"
             ],
             [
              0.3333333333333333,
              "#9c179e"
             ],
             [
              0.4444444444444444,
              "#bd3786"
             ],
             [
              0.5555555555555556,
              "#d8576b"
             ],
             [
              0.6666666666666666,
              "#ed7953"
             ],
             [
              0.7777777777777778,
              "#fb9f3a"
             ],
             [
              0.8888888888888888,
              "#fdca26"
             ],
             [
              1,
              "#f0f921"
             ]
            ],
            "type": "heatmap"
           }
          ],
          "heatmapgl": [
           {
            "colorbar": {
             "outlinewidth": 0,
             "ticks": ""
            },
            "colorscale": [
             [
              0,
              "#0d0887"
             ],
             [
              0.1111111111111111,
              "#46039f"
             ],
             [
              0.2222222222222222,
              "#7201a8"
             ],
             [
              0.3333333333333333,
              "#9c179e"
             ],
             [
              0.4444444444444444,
              "#bd3786"
             ],
             [
              0.5555555555555556,
              "#d8576b"
             ],
             [
              0.6666666666666666,
              "#ed7953"
             ],
             [
              0.7777777777777778,
              "#fb9f3a"
             ],
             [
              0.8888888888888888,
              "#fdca26"
             ],
             [
              1,
              "#f0f921"
             ]
            ],
            "type": "heatmapgl"
           }
          ],
          "histogram": [
           {
            "marker": {
             "pattern": {
              "fillmode": "overlay",
              "size": 10,
              "solidity": 0.2
             }
            },
            "type": "histogram"
           }
          ],
          "histogram2d": [
           {
            "colorbar": {
             "outlinewidth": 0,
             "ticks": ""
            },
            "colorscale": [
             [
              0,
              "#0d0887"
             ],
             [
              0.1111111111111111,
              "#46039f"
             ],
             [
              0.2222222222222222,
              "#7201a8"
             ],
             [
              0.3333333333333333,
              "#9c179e"
             ],
             [
              0.4444444444444444,
              "#bd3786"
             ],
             [
              0.5555555555555556,
              "#d8576b"
             ],
             [
              0.6666666666666666,
              "#ed7953"
             ],
             [
              0.7777777777777778,
              "#fb9f3a"
             ],
             [
              0.8888888888888888,
              "#fdca26"
             ],
             [
              1,
              "#f0f921"
             ]
            ],
            "type": "histogram2d"
           }
          ],
          "histogram2dcontour": [
           {
            "colorbar": {
             "outlinewidth": 0,
             "ticks": ""
            },
            "colorscale": [
             [
              0,
              "#0d0887"
             ],
             [
              0.1111111111111111,
              "#46039f"
             ],
             [
              0.2222222222222222,
              "#7201a8"
             ],
             [
              0.3333333333333333,
              "#9c179e"
             ],
             [
              0.4444444444444444,
              "#bd3786"
             ],
             [
              0.5555555555555556,
              "#d8576b"
             ],
             [
              0.6666666666666666,
              "#ed7953"
             ],
             [
              0.7777777777777778,
              "#fb9f3a"
             ],
             [
              0.8888888888888888,
              "#fdca26"
             ],
             [
              1,
              "#f0f921"
             ]
            ],
            "type": "histogram2dcontour"
           }
          ],
          "mesh3d": [
           {
            "colorbar": {
             "outlinewidth": 0,
             "ticks": ""
            },
            "type": "mesh3d"
           }
          ],
          "parcoords": [
           {
            "line": {
             "colorbar": {
              "outlinewidth": 0,
              "ticks": ""
             }
            },
            "type": "parcoords"
           }
          ],
          "pie": [
           {
            "automargin": true,
            "type": "pie"
           }
          ],
          "scatter": [
           {
            "fillpattern": {
             "fillmode": "overlay",
             "size": 10,
             "solidity": 0.2
            },
            "type": "scatter"
           }
          ],
          "scatter3d": [
           {
            "line": {
             "colorbar": {
              "outlinewidth": 0,
              "ticks": ""
             }
            },
            "marker": {
             "colorbar": {
              "outlinewidth": 0,
              "ticks": ""
             }
            },
            "type": "scatter3d"
           }
          ],
          "scattercarpet": [
           {
            "marker": {
             "colorbar": {
              "outlinewidth": 0,
              "ticks": ""
             }
            },
            "type": "scattercarpet"
           }
          ],
          "scattergeo": [
           {
            "marker": {
             "colorbar": {
              "outlinewidth": 0,
              "ticks": ""
             }
            },
            "type": "scattergeo"
           }
          ],
          "scattergl": [
           {
            "marker": {
             "colorbar": {
              "outlinewidth": 0,
              "ticks": ""
             }
            },
            "type": "scattergl"
           }
          ],
          "scattermapbox": [
           {
            "marker": {
             "colorbar": {
              "outlinewidth": 0,
              "ticks": ""
             }
            },
            "type": "scattermapbox"
           }
          ],
          "scatterpolar": [
           {
            "marker": {
             "colorbar": {
              "outlinewidth": 0,
              "ticks": ""
             }
            },
            "type": "scatterpolar"
           }
          ],
          "scatterpolargl": [
           {
            "marker": {
             "colorbar": {
              "outlinewidth": 0,
              "ticks": ""
             }
            },
            "type": "scatterpolargl"
           }
          ],
          "scatterternary": [
           {
            "marker": {
             "colorbar": {
              "outlinewidth": 0,
              "ticks": ""
             }
            },
            "type": "scatterternary"
           }
          ],
          "surface": [
           {
            "colorbar": {
             "outlinewidth": 0,
             "ticks": ""
            },
            "colorscale": [
             [
              0,
              "#0d0887"
             ],
             [
              0.1111111111111111,
              "#46039f"
             ],
             [
              0.2222222222222222,
              "#7201a8"
             ],
             [
              0.3333333333333333,
              "#9c179e"
             ],
             [
              0.4444444444444444,
              "#bd3786"
             ],
             [
              0.5555555555555556,
              "#d8576b"
             ],
             [
              0.6666666666666666,
              "#ed7953"
             ],
             [
              0.7777777777777778,
              "#fb9f3a"
             ],
             [
              0.8888888888888888,
              "#fdca26"
             ],
             [
              1,
              "#f0f921"
             ]
            ],
            "type": "surface"
           }
          ],
          "table": [
           {
            "cells": {
             "fill": {
              "color": "#EBF0F8"
             },
             "line": {
              "color": "white"
             }
            },
            "header": {
             "fill": {
              "color": "#C8D4E3"
             },
             "line": {
              "color": "white"
             }
            },
            "type": "table"
           }
          ]
         },
         "layout": {
          "annotationdefaults": {
           "arrowcolor": "#2a3f5f",
           "arrowhead": 0,
           "arrowwidth": 1
          },
          "autotypenumbers": "strict",
          "coloraxis": {
           "colorbar": {
            "outlinewidth": 0,
            "ticks": ""
           }
          },
          "colorscale": {
           "diverging": [
            [
             0,
             "#8e0152"
            ],
            [
             0.1,
             "#c51b7d"
            ],
            [
             0.2,
             "#de77ae"
            ],
            [
             0.3,
             "#f1b6da"
            ],
            [
             0.4,
             "#fde0ef"
            ],
            [
             0.5,
             "#f7f7f7"
            ],
            [
             0.6,
             "#e6f5d0"
            ],
            [
             0.7,
             "#b8e186"
            ],
            [
             0.8,
             "#7fbc41"
            ],
            [
             0.9,
             "#4d9221"
            ],
            [
             1,
             "#276419"
            ]
           ],
           "sequential": [
            [
             0,
             "#0d0887"
            ],
            [
             0.1111111111111111,
             "#46039f"
            ],
            [
             0.2222222222222222,
             "#7201a8"
            ],
            [
             0.3333333333333333,
             "#9c179e"
            ],
            [
             0.4444444444444444,
             "#bd3786"
            ],
            [
             0.5555555555555556,
             "#d8576b"
            ],
            [
             0.6666666666666666,
             "#ed7953"
            ],
            [
             0.7777777777777778,
             "#fb9f3a"
            ],
            [
             0.8888888888888888,
             "#fdca26"
            ],
            [
             1,
             "#f0f921"
            ]
           ],
           "sequentialminus": [
            [
             0,
             "#0d0887"
            ],
            [
             0.1111111111111111,
             "#46039f"
            ],
            [
             0.2222222222222222,
             "#7201a8"
            ],
            [
             0.3333333333333333,
             "#9c179e"
            ],
            [
             0.4444444444444444,
             "#bd3786"
            ],
            [
             0.5555555555555556,
             "#d8576b"
            ],
            [
             0.6666666666666666,
             "#ed7953"
            ],
            [
             0.7777777777777778,
             "#fb9f3a"
            ],
            [
             0.8888888888888888,
             "#fdca26"
            ],
            [
             1,
             "#f0f921"
            ]
           ]
          },
          "colorway": [
           "#636efa",
           "#EF553B",
           "#00cc96",
           "#ab63fa",
           "#FFA15A",
           "#19d3f3",
           "#FF6692",
           "#B6E880",
           "#FF97FF",
           "#FECB52"
          ],
          "font": {
           "color": "#2a3f5f"
          },
          "geo": {
           "bgcolor": "white",
           "lakecolor": "white",
           "landcolor": "#E5ECF6",
           "showlakes": true,
           "showland": true,
           "subunitcolor": "white"
          },
          "hoverlabel": {
           "align": "left"
          },
          "hovermode": "closest",
          "mapbox": {
           "style": "light"
          },
          "paper_bgcolor": "white",
          "plot_bgcolor": "#E5ECF6",
          "polar": {
           "angularaxis": {
            "gridcolor": "white",
            "linecolor": "white",
            "ticks": ""
           },
           "bgcolor": "#E5ECF6",
           "radialaxis": {
            "gridcolor": "white",
            "linecolor": "white",
            "ticks": ""
           }
          },
          "scene": {
           "xaxis": {
            "backgroundcolor": "#E5ECF6",
            "gridcolor": "white",
            "gridwidth": 2,
            "linecolor": "white",
            "showbackground": true,
            "ticks": "",
            "zerolinecolor": "white"
           },
           "yaxis": {
            "backgroundcolor": "#E5ECF6",
            "gridcolor": "white",
            "gridwidth": 2,
            "linecolor": "white",
            "showbackground": true,
            "ticks": "",
            "zerolinecolor": "white"
           },
           "zaxis": {
            "backgroundcolor": "#E5ECF6",
            "gridcolor": "white",
            "gridwidth": 2,
            "linecolor": "white",
            "showbackground": true,
            "ticks": "",
            "zerolinecolor": "white"
           }
          },
          "shapedefaults": {
           "line": {
            "color": "#2a3f5f"
           }
          },
          "ternary": {
           "aaxis": {
            "gridcolor": "white",
            "linecolor": "white",
            "ticks": ""
           },
           "baxis": {
            "gridcolor": "white",
            "linecolor": "white",
            "ticks": ""
           },
           "bgcolor": "#E5ECF6",
           "caxis": {
            "gridcolor": "white",
            "linecolor": "white",
            "ticks": ""
           }
          },
          "title": {
           "x": 0.05
          },
          "xaxis": {
           "automargin": true,
           "gridcolor": "white",
           "linecolor": "white",
           "ticks": "",
           "title": {
            "standoff": 15
           },
           "zerolinecolor": "white",
           "zerolinewidth": 2
          },
          "yaxis": {
           "automargin": true,
           "gridcolor": "white",
           "linecolor": "white",
           "ticks": "",
           "title": {
            "standoff": 15
           },
           "zerolinecolor": "white",
           "zerolinewidth": 2
          }
         }
        }
       }
      }
     },
     "metadata": {},
     "output_type": "display_data"
    }
   ],
   "source": [
    "def phylo_PCA(tree, data):\n",
    "    # Get phylogenetic covariance matrix\n",
    "    C = generate_C(tree)\n",
    "    n = C.shape[0]\n",
    "    # Get estimated ancestral values\n",
    "    # a = [(1^T · C^{-1} · 1)^{-1} · 1^T · C^{-1} · X]^T\n",
    "    ones = np.ones((n,1))\n",
    "    a = (np.linalg.inv(ones.T@np.linalg.inv(C)@ones)@ones.T@np.linalg.inv(C)@data).T\n",
    "    # Get evolutionary covariance matrix\n",
    "    # Pp = (n − 1)^{-1} · (X − a^T)^T · C^{-1} · (X − a^T)\n",
    "    data_cent = (data - a.T)\n",
    "    P = ((n-1)^(-1))*data_cent.T@np.linalg.inv(C)@data_cent\n",
    "    # Extract eigenvalues and eigenvectors with SVD\n",
    "    Up, Sp, Vh = np.linalg.svd(P)\n",
    "    return Up, Sp, a\n",
    "\n",
    "def transform_data(features, PCevecs, a):\n",
    "    # Sp = (X-a) · Up\n",
    "    centered_features = features - a.T \n",
    "    transformed_data = centered_features@PCevecs\n",
    "    return transformed_data\n",
    "\n",
    "Ppevecs, Ppevals, a = phylo_PCA(tree, leaf_values)\n",
    "features = transform_data(leaf_values, Ppevecs, a)\n",
    "\n",
    "fig = px.scatter_matrix(\n",
    "    features,\n",
    "    dimensions=range(2),\n",
    "    color=my_nodenames_leaves  \n",
    ")\n",
    "\n",
    "fig.update_traces(diagonal_visible=False)\n",
    "\n",
    "fig.show()\n"
   ]
  },
  {
   "cell_type": "code",
   "execution_count": 269,
   "metadata": {},
   "outputs": [
    {
     "data": {
      "image/png": "[encoded data removed]",
      "text/plain": [
       "<Figure size 800x800 with 1 Axes>"
      ]
     },
     "metadata": {},
     "output_type": "display_data"
    }
   ],
   "source": [
    "\n",
    "# My pPCA\n",
    "# Plot the PCA data in 2D (first two principal components)\n",
    "plt.figure(figsize=(8, 8))\n",
    "\n",
    "# Scatter plot of the PCA-transformed data (you can change the number of components)\n",
    "plt.scatter(features[:, 0], -features[:, 1], label=\"PCA Features\", color=\"blue\", marker=\"o\")\n",
    "\n",
    "# Add species names as labels on the points\n",
    "for i, name in enumerate(my_nodenames_leaves):  # Assuming leaf_names contains species names corresponding to 'leaf_values'\n",
    "    plt.text(features[i, 0], -features[i, 1], name, fontsize=8, color=\"black\", ha='right')\n",
    "\n",
    "# Customize the plot\n",
    "plt.title(\"PCA Plot with Species Names\")\n",
    "plt.xlabel(\"PC1\")\n",
    "plt.ylabel(\"PC2\")\n",
    "plt.axis(\"equal\")\n",
    "plt.show()"
   ]
  },
  {
   "cell_type": "code",
   "execution_count": 270,
   "metadata": {},
   "outputs": [
    {
     "data": {
      "image/png": "[encoded data removed]",
      "text/plain": [
       "<Figure size 800x800 with 1 Axes>"
      ]
     },
     "metadata": {},
     "output_type": "display_data"
    }
   ],
   "source": [
    "# My PCA\n",
    "# Plot the PCA data in 2D (first two principal components)\n",
    "plt.figure(figsize=(8, 8))\n",
    "\n",
    "# Scatter plot of the PCA-transformed data (you can change the number of components)\n",
    "plt.scatter(trainingFeatures2D[:, 0], trainingFeatures2D[:, 1], label=\"PCA Features\", color=\"blue\", marker=\"o\")\n",
    "\n",
    "# Add species names as labels on the points\n",
    "for i, name in enumerate(my_nodenames_leaves):  # Assuming leaf_names contains species names corresponding to 'leaf_values'\n",
    "    plt.text(trainingFeatures2D[i, 0], trainingFeatures2D[i, 1], name, fontsize=8, color=\"black\", ha='right')\n",
    "\n",
    "# Customize the plot\n",
    "plt.title(\"PCA Plot with Species Names\")\n",
    "plt.xlabel(\"PC1\")\n",
    "plt.ylabel(\"PC2\")\n",
    "plt.axis(\"equal\")\n",
    "plt.show()"
   ]
  },
  {
   "cell_type": "code",
   "execution_count": 271,
   "metadata": {},
   "outputs": [
    {
     "data": {
      "image/png": "[encoded data removed]",
      "text/plain": [
       "<Figure size 800x800 with 1 Axes>"
      ]
     },
     "metadata": {},
     "output_type": "display_data"
    }
   ],
   "source": [
    "# SciKit learn PCA\n",
    "# Plot the PCA data in 2D (first two principal components)\n",
    "plt.figure(figsize=(8, 8))\n",
    "\n",
    "# Scatter plot of the PCA-transformed data (you can change the number of components)\n",
    "plt.scatter(components[:, 0], components[:, 1], label=\"PCA Features\", color=\"blue\", marker=\"o\")\n",
    "\n",
    "# Add species names as labels on the points\n",
    "for i, name in enumerate(my_nodenames_leaves):  # Assuming leaf_names contains species names corresponding to 'leaf_values'\n",
    "    plt.text(components[i, 0], components[i, 1], name, fontsize=8, color=\"black\", ha='right')\n",
    "\n",
    "# Customize the plot\n",
    "plt.title(\"PCA Plot with Species Names\")\n",
    "plt.xlabel(\"PC1\")\n",
    "plt.ylabel(\"PC2\")\n",
    "plt.axis(\"equal\")\n",
    "plt.show()"
   ]
  },
  {
   "cell_type": "code",
   "execution_count": 272,
   "metadata": {},
   "outputs": [
    {
     "data": {
      "image/png": "[encoded data removed]",
      "text/plain": [
       "<Figure size 600x600 with 1 Axes>"
      ]
     },
     "metadata": {},
     "output_type": "display_data"
    }
   ],
   "source": [
    "# Assuming you've already run phylo_PCA and obtained PCevecs, PCevals, and 'a' (ancestral vector)\n",
    "# Use the ancestral vector 'a' instead of the mean of the original data\n",
    "X_mean = a.T  # Use 'a' instead of the mean\n",
    "\n",
    "# Number of principal components to sample from\n",
    "num_components = 2  # You can adjust this value depending on how many components you want to use\n",
    "\n",
    "# Sample from a normal distribution using the eigenvalues\n",
    "b = np.random.normal(0, np.sqrt(PCevals[:num_components]), size=(num_components,))\n",
    "\n",
    "# Generate the new data by adding the projection of the samples onto the selected principal components\n",
    "X_new = X_mean + np.dot(b, PCevecs[:, :num_components].T)\n",
    "\n",
    "# Now, reshape the original mean (ancestral vector) and the new shape for visualization (assuming 2D data)\n",
    "n = X_mean.shape[1] // 2  # Number of landmarks, assuming 2D data\n",
    "X_mean_reshaped = X_mean.reshape(n, 2)\n",
    "X_new_reshaped = X_new.reshape(n, 2)\n",
    "\n",
    "# Flip the data on the y-axis by negating the second column (the y-values)\n",
    "X_mean_reshaped = X_mean_reshaped.at[:, 1].set(X_mean_reshaped[:, 1]*-1)\n",
    "X_new_reshaped = X_new_reshaped.at[:, 1].set(X_new_reshaped[:, 1]*-1)\n",
    "\n",
    "# Plot the original mean shape and the new generated shape\n",
    "plt.figure(figsize=(6, 6))\n",
    "plt.scatter(X_mean_reshaped[:, 0], X_mean_reshaped[:, 1], label=\"Mean Shape (Ancestral)\", marker=\"o\", color=\"blue\")\n",
    "plt.scatter(X_new_reshaped[:, 0], X_new_reshaped[:, 1], label=\"Generated Shape\", marker=\"x\", color=\"red\")\n",
    "\n",
    "# Connect the corresponding points with dashed lines\n",
    "for i in range(n):\n",
    "    plt.plot([X_mean_reshaped[i, 0], X_new_reshaped[i, 0]], \n",
    "             [X_mean_reshaped[i, 1], X_new_reshaped[i, 1]], 'k--', alpha=0.5)\n",
    "\n",
    "plt.legend()\n",
    "plt.title(\"Generated Landmark Shape Using Phylogenetic PCA\")\n",
    "plt.xlabel(\"X\")\n",
    "plt.ylabel(\"Y\")\n",
    "plt.axis(\"equal\")\n",
    "plt.show()\n",
    "\n",
    "# To transform the new data back into the original phylogenetic PCA space:\n",
    "# Assuming 'a' is the ancestral values and 'PCevecs' is the principal component matrix\n",
    "X_new_transformed = transform_data(X_new.reshape(1, -1), PCevecs, a)"
   ]
  },
  {
   "cell_type": "code",
   "execution_count": null,
   "metadata": {},
   "outputs": [
    {
     "name": "stdout",
     "output_type": "stream",
     "text": [
      "['Papilio_gigon', 'Papilio_deiphobus', 'Papilio_xuthus', 'Papilio_zelicaon', 'Papilio_cresphontes', 'Papilio_troilus', 'Papilio_aristodemus', 'Papilio_glaucus', 'Papilio_memnon', 'Papilio_polyxenes', 'Papilio_thoas', 'Papilio_ambrax', 'Papilio_antimachus', 'Papilio_phestus', 'Papilio_polytes', 'Papilio_protenor', 'Papilio_slateri']\n"
     ]
    }
   ],
   "source": [
    "tree.add_property('pca', shape=(1,))\n"
   ]
  },
  {
   "cell_type": "code",
   "execution_count": null,
   "metadata": {},
   "outputs": [],
   "source": [
    "from collections import deque\n",
    "from typing import Iterator\n",
    "\n",
    "def iter_topology_inner_nodes_dfs(self, exclude_root = True) -> Iterator[\"TopologyNode\"]:\n",
    "    \"\"\"\n",
    "    Iterate over all inner nodes (excluding leaves) in a breadth-first manner.\n",
    "    \"\"\"\n",
    "    queue = deque([self.topology_root])\n",
    "\n",
    "    while queue:\n",
    "        current = queue.popleft()\n",
    "        if current.children:  # Internal nodes have children\n",
    "            queue.extend(current.children)  # Add children to queue\n",
    "            if exclude_root: # Exclude root if needed\n",
    "                if current is not self.topology_root:  \n",
    "                    yield current  # Yield only non-root inner nodes\n",
    "            if not exclude_root: \n",
    "                yield current\n",
    "                \n",
    "def iter_topology_leaves_post(self) -> Iterator[TopologyNode]:\n",
    "    \"\"\"\n",
    "    Iterate over all leaf nodes in post-order traversal.\n",
    "    \"\"\"\n",
    "    def post_order(node):\n",
    "        if not node.children:  # If node has no children, it's a leaf\n",
    "            yield node\n",
    "        for child in node.children:\n",
    "            yield from post_order(child)\n",
    "\n",
    "    yield from post_order(self.topology_root)\n",
    "\n",
    "def iter_topology_inner_nodes_post(self) -> Iterator[TopologyNode]:\n",
    "    \"\"\"\n",
    "    Iterate over all inner nodes (excluding the root and leaves) in post-order traversal.\n",
    "    \"\"\"\n",
    "    def post_order(node):\n",
    "        for child in node.children:\n",
    "            yield from post_order(child)\n",
    "        if node.children and node is not self.topology_root:  # Only inner nodes\n",
    "            yield node\n",
    "\n",
    "    yield from post_order(self.topology_root)"
   ]
  }
 ],
 "metadata": {
  "kernelspec": {
   "display_name": "base",
   "language": "python",
   "name": "python3"
  },
  "language_info": {
   "codemirror_mode": {
    "name": "ipython",
    "version": 3
   },
   "file_extension": ".py",
   "mimetype": "text/x-python",
   "name": "python",
   "nbconvert_exporter": "python",
   "pygments_lexer": "ipython3",
   "version": "3.12.2"
  }
 },
 "nbformat": 4,
 "nbformat_minor": 2
}
